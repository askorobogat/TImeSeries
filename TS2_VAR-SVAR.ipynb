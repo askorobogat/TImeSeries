{
 "cells": [
  {
   "cell_type": "markdown",
   "id": "53c3fa18",
   "metadata": {},
   "source": [
    "### TIme Series Econometrics\n",
    "Alexander Skorobogatov"
   ]
  },
  {
   "cell_type": "markdown",
   "id": "242b923a",
   "metadata": {},
   "source": [
    "# Topic 2. VAR-SVAR: theory and simulations"
   ]
  },
  {
   "cell_type": "markdown",
   "id": "4bbf20e4",
   "metadata": {},
   "source": [
    "### I.\n",
    "VAR(1) is given by:\n",
    "$$x_{t} = a_{11} x_{t-1} + a_{12} y_{t-1} + u_t$$ \n",
    "$$y_{t} = a_{21} x_{t-1} + a_{22} y_{t-1} + v_t$$  \n",
    "or in matrix form\n",
    "$$x_{t} = A x_{t-1} + \\epsilon_{t}$$\n",
    "where $\\epsilon_{t}$ ~ $N(0,\\Sigma)$\n",
    "\n",
    "1. Create a matrix A of a stable system (absolute eigenvalues of $A$ should be less than unity)  \n",
    "2. Simulate a dataset in line with A (calculate the eigenvalues)  \n",
    "3. Calculate the reverse polynomial\n",
    "4. Visualize the system  \n",
    "5. Estimate VAR model and report the results\n",
    "6. Report irfs\n",
    "7. Calculate irfs manually to check the way it is done by the program"
   ]
  },
  {
   "cell_type": "code",
   "execution_count": 1,
   "id": "143007cb",
   "metadata": {},
   "outputs": [],
   "source": [
    "import pandas as pd\n",
    "import numpy as np\n",
    "import matplotlib.pyplot as plt"
   ]
  },
  {
   "cell_type": "code",
   "execution_count": 2,
   "id": "dba1f0b0",
   "metadata": {},
   "outputs": [
    {
     "name": "stdout",
     "output_type": "stream",
     "text": [
      "[[ 0.10470349 -0.15689113]\n",
      " [-0.32882472  0.27158583]]\n"
     ]
    },
    {
     "data": {
      "text/plain": [
       "array([-0.05383077,  0.4301201 ])"
      ]
     },
     "execution_count": 2,
     "metadata": {},
     "output_type": "execute_result"
    }
   ],
   "source": [
    "# 1,2\n",
    "A = np.random.uniform(-0.5,0.5,(2,2))\n",
    "print(A)\n",
    "np.linalg.eig(A)[0]"
   ]
  },
  {
   "cell_type": "code",
   "execution_count": 3,
   "id": "3468fe10",
   "metadata": {},
   "outputs": [
    {
     "name": "stdout",
     "output_type": "stream",
     "text": [
      "0.2342084477292307\n",
      "-18.57673507606026\n",
      "2.3249320324109624\n"
     ]
    }
   ],
   "source": [
    "# 3\n",
    "a,b,c = (A[0,0]*A[1,1] - A[0,1]*A[1,0]),-(A[0,0]+A[1,1]),1\n",
    "d = (-b)**2 - 4*(a*c)\n",
    "r1 = (-b + np.sqrt(d))/(2*a)\n",
    "r2 = (-b - np.sqrt(d))/(2*a)\n",
    "print(d)\n",
    "print(r1)\n",
    "print(r2)"
   ]
  },
  {
   "cell_type": "markdown",
   "id": "d544345d",
   "metadata": {},
   "source": [
    "### 3. Reverse characteristic polynomial a different way"
   ]
  },
  {
   "cell_type": "code",
   "execution_count": 4,
   "id": "7d3127fe",
   "metadata": {},
   "outputs": [],
   "source": [
    "from sympy import *"
   ]
  },
  {
   "cell_type": "code",
   "execution_count": 5,
   "id": "34587d7e",
   "metadata": {},
   "outputs": [
    {
     "data": {
      "text/plain": [
       "[-15.4858377035486, 2.00000000000000, 2.15250437021530]"
      ]
     },
     "execution_count": 5,
     "metadata": {},
     "output_type": "execute_result"
    }
   ],
   "source": [
    "# Reproduce the example from Lutkepohl p. 17\n",
    "I = Identity(3)\n",
    "X1 = MatrixSymbol('X', 3, 3)\n",
    "z = symbols('z')\n",
    "a = np.array([[0.5,0,0],[0.1,0.1,0.3],[0,0.2,0.3]])\n",
    "AA = Matrix(a)\n",
    "X2 = Matrix(I - X1@z)\n",
    "X3 = X2.subs(X1,AA)\n",
    "X4 = X3.det()\n",
    "solve(Eq(X4,0),z)"
   ]
  },
  {
   "cell_type": "code",
   "execution_count": 6,
   "id": "74b01967",
   "metadata": {},
   "outputs": [
    {
     "data": {
      "text/latex": [
       "$\\displaystyle \\left[\\begin{matrix}0.5 & 0 & 0\\\\0.1 & 0.1 & 0.3\\\\0 & 0.2 & 0.3\\end{matrix}\\right]$"
      ],
      "text/plain": [
       "Matrix([\n",
       "[0.5,   0,   0],\n",
       "[0.1, 0.1, 0.3],\n",
       "[  0, 0.2, 0.3]])"
      ]
     },
     "execution_count": 6,
     "metadata": {},
     "output_type": "execute_result"
    }
   ],
   "source": [
    "AA"
   ]
  },
  {
   "cell_type": "code",
   "execution_count": 7,
   "id": "8af8c4ac",
   "metadata": {},
   "outputs": [
    {
     "data": {
      "text/latex": [
       "$\\displaystyle \\left[\\begin{matrix}1 - 0.5 z & 0 & 0\\\\- 0.1 z & 1 - 0.1 z & - 0.3 z\\\\0 & - 0.2 z & 1 - 0.3 z\\end{matrix}\\right]$"
      ],
      "text/plain": [
       "Matrix([\n",
       "[1 - 0.5*z,         0,         0],\n",
       "[   -0.1*z, 1 - 0.1*z,    -0.3*z],\n",
       "[        0,    -0.2*z, 1 - 0.3*z]])"
      ]
     },
     "execution_count": 7,
     "metadata": {},
     "output_type": "execute_result"
    }
   ],
   "source": [
    "X3"
   ]
  },
  {
   "cell_type": "code",
   "execution_count": 8,
   "id": "922e2947",
   "metadata": {},
   "outputs": [
    {
     "data": {
      "text/latex": [
       "$\\displaystyle 0.015 z^{3} + 0.17 z^{2} - 0.9 z + 1$"
      ],
      "text/plain": [
       "0.015*z**3 + 0.17*z**2 - 0.9*z + 1"
      ]
     },
     "execution_count": 8,
     "metadata": {},
     "output_type": "execute_result"
    }
   ],
   "source": [
    "X4"
   ]
  },
  {
   "cell_type": "code",
   "execution_count": 9,
   "id": "11bd1cfa",
   "metadata": {},
   "outputs": [
    {
     "data": {
      "text/plain": [
       "[-18.5767350760602, 2.32493203241096]"
      ]
     },
     "execution_count": 9,
     "metadata": {},
     "output_type": "execute_result"
    }
   ],
   "source": [
    "# Or from my example here\n",
    "I = Identity(2)\n",
    "X1 = MatrixSymbol('X', 2, 2)\n",
    "z = symbols('z')\n",
    "AA = Matrix(A)\n",
    "X2 = Matrix(I - X1@z)\n",
    "X3 = X2.subs(X1,AA)\n",
    "X4 = X3.det()\n",
    "solve(Eq(X4,0),z)"
   ]
  },
  {
   "cell_type": "code",
   "execution_count": 10,
   "id": "64689570",
   "metadata": {},
   "outputs": [
    {
     "data": {
      "text/plain": [
       "[<matplotlib.lines.Line2D at 0x1358f5bb3d0>]"
      ]
     },
     "execution_count": 10,
     "metadata": {},
     "output_type": "execute_result"
    },
    {
     "data": {
      "image/png": "[encoded data removed]",
      "text/plain": [
       "<Figure size 432x288 with 1 Axes>"
      ]
     },
     "metadata": {
      "needs_background": "light"
     },
     "output_type": "display_data"
    }
   ],
   "source": [
    "# 4\n",
    "T = 1000\n",
    "mean = [0, 0]\n",
    "cov = [[1, 0.5], [0.5, 1]] \n",
    "e1,e2 = np.random.multivariate_normal(mean, cov, T).T\n",
    "y = []\n",
    "z = []\n",
    "y.append(1)\n",
    "z.append(1)\n",
    "for t in range(1,T):\n",
    "    a = A[0,0]*y[t-1] + A[0,1]*z[t-1] + e1[t]\n",
    "    b = A[1,0]*y[t-1] + A[1,1]*z[t-1] + e2[t]\n",
    "    y.append(a)\n",
    "    z.append(b)\n",
    "plt.plot(y, label = \"line 1\")\n",
    "plt.plot(z, label = \"line 2\")"
   ]
  },
  {
   "cell_type": "code",
   "execution_count": 11,
   "id": "b4e00848",
   "metadata": {},
   "outputs": [],
   "source": [
    "import statsmodels.api as sm\n",
    "from statsmodels.tsa.api import VAR, SVAR"
   ]
  },
  {
   "cell_type": "code",
   "execution_count": 12,
   "id": "ddc7a537",
   "metadata": {},
   "outputs": [
    {
     "name": "stdout",
     "output_type": "stream",
     "text": [
      "[[[ 0.13568591 -0.19170625]\n",
      "  [-0.3384763   0.28508082]]]\n",
      "[[ 0.10470349 -0.15689113]\n",
      " [-0.32882472  0.27158583]]\n"
     ]
    }
   ],
   "source": [
    "# 5\n",
    "data = np.array([y,z]).T\n",
    "model = VAR(data)\n",
    "res = model.fit(1)\n",
    "print(res.coefs)\n",
    "print(A)"
   ]
  },
  {
   "cell_type": "code",
   "execution_count": 13,
   "id": "ef99f4af",
   "metadata": {},
   "outputs": [
    {
     "name": "stdout",
     "output_type": "stream",
     "text": [
      "[[[ 1.          0.        ]\n",
      "  [ 0.          1.        ]]\n",
      "\n",
      " [[ 0.13568591 -0.19170625]\n",
      "  [-0.3384763   0.28508082]]\n",
      "\n",
      " [[ 0.08329869 -0.08066361]\n",
      "  [-0.14241957  0.1461591 ]]]\n",
      "\n",
      " Manually t+1 is \n",
      "[[[ 0.13568591 -0.19170625]\n",
      "  [-0.3384763   0.28508082]]]\n",
      "Manually t+2 is \n",
      "[[[ 0.08329869 -0.08066361]\n",
      "  [-0.14241957  0.1461591 ]]]\n"
     ]
    }
   ],
   "source": [
    "# 6\n",
    "print(res.irf(2).irfs) # program\n",
    "print(f\"\\n Manually t+1 is \\n{res.coefs@np.eye(2)}\") # manually t+1\n",
    "print(f\"Manually t+2 is \\n{np.linalg.matrix_power(res.coefs,2)@np.eye(2)}\") # manually t+2"
   ]
  },
  {
   "cell_type": "markdown",
   "id": "ca0c87cf",
   "metadata": {},
   "source": [
    "### VAR: from structural to reduced and back\n",
    "1. Create structural and reduced form dataset without the error to check that the resultant series are the same\n",
    "2. Compare numbers and plots\n",
    "3. Create a dataset with zero error covariance\n",
    "4. Compare A, AA, and coefs\n",
    "5. Compare B and res.A; calculate res.A manually\n",
    "6. Calculate res.B manually"
   ]
  },
  {
   "cell_type": "markdown",
   "id": "7a7998c1",
   "metadata": {},
   "source": [
    "### Some theory\n",
    "$$A x_{t} = A_{1} x_{t-1} + B \\epsilon_{t}$$  \n",
    "$$x_{t} = A^{-1}(A_{1} x_{t-1} + B \\epsilon_{t})$$  \n",
    "\n",
    "Data makes possible the estimation of $A^{-1}A_{1}$. The next task is to distinguish between $A$ and $A_{1}$. This is possible if we take into account:\n",
    "1. Diagonal entries of A are unities\n",
    "2. Economic logic at hand suggesting causation between x and y, so that $A = \\left[\n",
    " \\begin{matrix}\n",
    "   1 & a_{10} \\\\\n",
    "   0 &  1\n",
    "  \\end{matrix} \n",
    "\\right]$\n",
    "\n",
    "In the above example we assume $x_{2}$ instantaneously causes $x_{1}$ but not vice versa. Given these assumptions, $a_{10}$ can be restored from an estimate of $A^{-1}A_{1}$ and its variance-covariance matrix."
   ]
  },
  {
   "cell_type": "markdown",
   "id": "18e93cca",
   "metadata": {},
   "source": [
    "### Three types of models\n",
    "A-model: restrictions are placed on A, while B is set to identity matrix  \n",
    "B-model: restrictions are placed on B, while A is set to identity matrix  \n",
    "AB-model: restrictions are placed on both matrices\n",
    "\n",
    "#### Restore A from coef. estimates  \n",
    "This reduces to finding the only unknown entry in A, which is done as follows\n",
    "$$a_{10} = -cov(e_{1},e_{1})/var(x_{2})$$\n",
    "\n",
    "#### Restore B from coef. estimates  \n",
    "This is done using the relationaship between resid. vcov and A\n",
    "$$\\Sigma_{r} = A^{-1} B B^{T} A^{-1^{T}}$$\n",
    "so that B is restored as follows\n",
    "$$B = chol(A \\Sigma_{r} A^{T})$$\n",
    "where chol is Cholesky decomposition."
   ]
  },
  {
   "cell_type": "code",
   "execution_count": 14,
   "id": "c3aa7bc3",
   "metadata": {},
   "outputs": [
    {
     "name": "stdout",
     "output_type": "stream",
     "text": [
      "[[ 0.33696707  0.33525292]\n",
      " [-0.24900312  0.06371466]]\n",
      "[[1.  1.1]\n",
      " [0.  1. ]]\n",
      "[[ 0.6108705   0.2651668 ]\n",
      " [-0.24900312  0.06371466]]\n",
      "[1, 0.8760372927315658, 0.48601299064002446, 0.2359181183634482, 0.10814039816593565, 0.04819059249892414]\n",
      "[1, -0.18528845592131737, -0.22994160662633942, -0.1356694004024308, -0.06738847632953278, -0.03122092997440569]\n",
      "[1, 0.8760372927315658, 0.4860129906400244, 0.23591811836344817, 0.10814039816593563, 0.04819059249892412]\n",
      "[1, -0.18528845592131737, -0.22994160662633942, -0.13566940040243078, -0.06738847632953276, -0.031220929974405683]\n"
     ]
    }
   ],
   "source": [
    "# 1\n",
    "A = np.random.uniform(-0.5,0.5,(2,2))\n",
    "print(A)\n",
    "a10 = -1.1\n",
    "B = np.eye(2)\n",
    "B[0,1] = -a10\n",
    "print(B)\n",
    "AA = np.linalg.inv(B)@A\n",
    "print(AA)\n",
    "T = 100\n",
    "y1 = []\n",
    "z1 = []\n",
    "#y1.append(0)\n",
    "#z1.append(0)\n",
    "y1.append(1)\n",
    "z1.append(1)\n",
    "for t in range(1,T+1):\n",
    "    b = A[1,0]*y1[t-1] + A[1,1]*z1[t-1]\n",
    "    z1.append(b)\n",
    "    a = A[0,0]*y1[t-1] + A[0,1]*z1[t-1] + a10*z1[t]\n",
    "    y1.append(a)\n",
    "\n",
    "y2 = []\n",
    "z2 = []   \n",
    "#y2.append(0)\n",
    "#z2.append(0)\n",
    "y2.append(1)\n",
    "z2.append(1)\n",
    "for t in range(1,T+1):\n",
    "    a = AA[0,0]*y2[t-1] + AA[0,1]*z2[t-1]\n",
    "    b = AA[1,0]*y2[t-1] + AA[1,1]*z2[t-1]\n",
    "    y2.append(a)\n",
    "    z2.append(b)\n",
    "    \n",
    "print(y1[:6])\n",
    "print(z1[:6])\n",
    "print(y2[:6])\n",
    "print(z2[:6])"
   ]
  },
  {
   "cell_type": "code",
   "execution_count": 15,
   "id": "78061b78",
   "metadata": {},
   "outputs": [
    {
     "data": {
      "text/plain": [
       "[<matplotlib.lines.Line2D at 0x1359232ee50>]"
      ]
     },
     "execution_count": 15,
     "metadata": {},
     "output_type": "execute_result"
    },
    {
     "data": {
      "image/png": "[encoded data removed]",
      "text/plain": [
       "<Figure size 432x288 with 1 Axes>"
      ]
     },
     "metadata": {
      "needs_background": "light"
     },
     "output_type": "display_data"
    }
   ],
   "source": [
    "# 2\n",
    "plt.plot(y1, label = \"line 1\")\n",
    "plt.plot(z1, label = \"line 2\")"
   ]
  },
  {
   "cell_type": "code",
   "execution_count": 16,
   "id": "a6cd94a2",
   "metadata": {},
   "outputs": [
    {
     "data": {
      "text/plain": [
       "[<matplotlib.lines.Line2D at 0x1359239ea30>]"
      ]
     },
     "execution_count": 16,
     "metadata": {},
     "output_type": "execute_result"
    },
    {
     "data": {
      "image/png": "[encoded data removed]",
      "text/plain": [
       "<Figure size 432x288 with 1 Axes>"
      ]
     },
     "metadata": {
      "needs_background": "light"
     },
     "output_type": "display_data"
    }
   ],
   "source": [
    "plt.plot(y2, label = \"line 1\")\n",
    "plt.plot(z2, label = \"line 2\")"
   ]
  },
  {
   "cell_type": "code",
   "execution_count": 17,
   "id": "46ef039c",
   "metadata": {},
   "outputs": [
    {
     "name": "stdout",
     "output_type": "stream",
     "text": [
      "[[ 0.32661553  0.35490296]\n",
      " [ 0.16239237 -0.05656047]]\n",
      "[[1.  0.6]\n",
      " [0.  1. ]]\n",
      "[[ 0.2291801   0.38883924]\n",
      " [ 0.16239237 -0.05656047]]\n"
     ]
    },
    {
     "data": {
      "text/plain": [
       "[<matplotlib.lines.Line2D at 0x13592425700>]"
      ]
     },
     "execution_count": 17,
     "metadata": {},
     "output_type": "execute_result"
    },
    {
     "data": {
      "image/png": "[encoded data removed]",
      "text/plain": [
       "<Figure size 432x288 with 1 Axes>"
      ]
     },
     "metadata": {
      "needs_background": "light"
     },
     "output_type": "display_data"
    }
   ],
   "source": [
    "# 3\n",
    "A = np.random.uniform(-0.5,0.5,(2,2))\n",
    "print(A)\n",
    "a10 = -0.6\n",
    "B = np.eye(2)\n",
    "B[0,1] = -a10\n",
    "print(B)\n",
    "AA = np.linalg.inv(B)@A\n",
    "print(AA)\n",
    "T = 1000\n",
    "mean = [0, 0]\n",
    "cov = [[1, 0], [0, 1]] \n",
    "e1,e2 = np.random.multivariate_normal(mean, cov, T).T\n",
    "y1 = []\n",
    "z1 = []\n",
    "#y1.append(0)\n",
    "#z1.append(0)\n",
    "y1.append(1)\n",
    "z1.append(1)\n",
    "for t in range(1,T):\n",
    "    b = A[1,0]*y1[t-1] + A[1,1]*z1[t-1] + e1[t]\n",
    "    z1.append(b)\n",
    "    a = A[0,0]*y1[t-1] + A[0,1]*z1[t-1] + a10*z1[t] + e2[t]\n",
    "    y1.append(a)\n",
    "plt.plot(y1, label = \"line 1\")\n",
    "plt.plot(z1, label = \"line 2\")"
   ]
  },
  {
   "cell_type": "code",
   "execution_count": 18,
   "id": "1432c70d",
   "metadata": {},
   "outputs": [],
   "source": [
    "# SVAR Estimates\n",
    "\n",
    "# Matrices A B\n",
    "A2 = np.asarray([[1,'E'],[0,1]])\n",
    "B2 = np.asarray([['E',0],[0,'E']])\n",
    "\n",
    "# Model and results\n",
    "data = np.array([y1,z1]).T\n",
    "mymodel = SVAR(data, svar_type='AB', A=A2, B=B2, missing='drop')\n",
    "res = mymodel.fit(maxiter=10000, maxfun=10000)"
   ]
  },
  {
   "cell_type": "code",
   "execution_count": 19,
   "id": "05c366e8",
   "metadata": {},
   "outputs": [
    {
     "data": {
      "text/plain": [
       "  Summary of Regression Results   \n",
       "==================================\n",
       "Model:                        SVAR\n",
       "Method:                        OLS\n",
       "Date:           Sun, 11, Dec, 2022\n",
       "Time:                     15:22:45\n",
       "--------------------------------------------------------------------\n",
       "No. of Equations:         2.00000    BIC:                 -0.0386676\n",
       "Nobs:                     999.000    HQIC:                -0.0569364\n",
       "Log likelihood:          -2795.00    FPE:                   0.934132\n",
       "AIC:                   -0.0681375    Det(Omega_mle):        0.928547\n",
       "--------------------------------------------------------------------\n",
       "Results for equation y1\n",
       "========================================================================\n",
       "           coefficient       std. error           t-stat            prob\n",
       "------------------------------------------------------------------------\n",
       "const        -0.051237         0.036284           -1.412           0.158\n",
       "L1.y1         0.192395         0.033616            5.723           0.000\n",
       "L1.y2         0.387830         0.040927            9.476           0.000\n",
       "========================================================================\n",
       "\n",
       "Results for equation y2\n",
       "========================================================================\n",
       "           coefficient       std. error           t-stat            prob\n",
       "------------------------------------------------------------------------\n",
       "const         0.046973         0.030256            1.553           0.121\n",
       "L1.y1         0.185036         0.028031            6.601           0.000\n",
       "L1.y2        -0.028312         0.034128           -0.830           0.407\n",
       "========================================================================\n",
       "\n",
       "Correlation matrix of residuals\n",
       "            y1        y2\n",
       "y1    1.000000 -0.474226\n",
       "y2   -0.474226  1.000000\n",
       "\n"
      ]
     },
     "execution_count": 19,
     "metadata": {},
     "output_type": "execute_result"
    }
   ],
   "source": [
    "res.k_exog_user = 0\n",
    "res.summary()"
   ]
  },
  {
   "cell_type": "code",
   "execution_count": 86,
   "id": "95373843",
   "metadata": {},
   "outputs": [
    {
     "name": "stdout",
     "output_type": "stream",
     "text": [
      "coefs\n",
      "[[[ 0.19239455  0.38782954]\n",
      "  [ 0.18503557 -0.02831156]]]\n",
      "simul.coefs\n",
      "[[ 0.32661553  0.35490296]\n",
      " [ 0.16239237 -0.05656047]]\n",
      "simul.reduced_coefs\n",
      "[[ 0.80760545 -0.38782954]\n",
      " [-0.18503557  1.02831156]]\n"
     ]
    }
   ],
   "source": [
    "# 4\n",
    "print('coefs',res.coefs,sep='\\n')\n",
    "print('simul.coefs',A,sep='\\n')\n",
    "print('simul.reduced_coefs',AA,sep='\\n')"
   ]
  },
  {
   "cell_type": "code",
   "execution_count": 96,
   "id": "df2d6efe",
   "metadata": {},
   "outputs": [
    {
     "name": "stdout",
     "output_type": "stream",
     "text": [
      "a10 calculated manually\n",
      "-0.5687045553334614\n",
      "a10 from the output\n",
      "[[1.         0.56870454]\n",
      " [0.         1.        ]]\n",
      "a10 simul. value\n",
      "[[1.  0.6]\n",
      " [0.  1. ]]\n"
     ]
    }
   ],
   "source": [
    "# 5\n",
    "cov = np.cov(res.resid[:,0],res.resid[:,1]) # compute resid. vcov\n",
    "\n",
    "print('a10 calculated manually',cov[1][0]/cov[1][1],sep='\\n')\n",
    "print('a10 from the output',res.A,sep='\\n')\n",
    "print('a10 simul. value',B,sep='\\n')"
   ]
  },
  {
   "cell_type": "code",
   "execution_count": 112,
   "id": "ce72ed3c",
   "metadata": {},
   "outputs": [
    {
     "name": "stdout",
     "output_type": "stream",
     "text": [
      "res.B calculated manually\n",
      "[[ 1.008  0.   ]\n",
      " [-0.     0.954]]\n",
      "res.B from the output\n",
      "[[1.00865446 0.        ]\n",
      " [0.         0.95534329]]\n"
     ]
    }
   ],
   "source": [
    "# 6\n",
    "BB = np.linalg.cholesky(res.A@cov@res.A.T)\n",
    "\n",
    "print('res.B calculated manually',np.round(BB,3),sep='\\n')\n",
    "print('res.B from the output',res.B,sep='\\n')"
   ]
  },
  {
   "cell_type": "markdown",
   "id": "5d1ba369",
   "metadata": {},
   "source": [
    "### Calculate irfs from SVAR manually\n",
    "1. Report irfs  \n",
    "2. Calculate manually "
   ]
  },
  {
   "cell_type": "markdown",
   "id": "53d8ba9c",
   "metadata": {},
   "source": [
    "$$Irf_{1} = A^{-1} V(e)$$\n",
    "\n",
    "$$Irf_{n} = coef^{n-1} Irf_{1}$$"
   ]
  },
  {
   "cell_type": "code",
   "execution_count": 116,
   "id": "16d75d4b",
   "metadata": {},
   "outputs": [
    {
     "data": {
      "text/plain": [
       "array([[[ 1.00865446, -0.54330806],\n",
       "        [ 0.        ,  0.95534329]],\n",
       "\n",
       "       [[ 0.19405962,  0.26598083],\n",
       "        [ 0.18663695, -0.12757857]],\n",
       "\n",
       "       [[ 0.10971934,  0.00169452],\n",
       "        [ 0.03062395,  0.05282786]],\n",
       "\n",
       "       [[ 0.03298627,  0.02081422],\n",
       "        [ 0.01943497, -0.00118209]]])"
      ]
     },
     "execution_count": 116,
     "metadata": {},
     "output_type": "execute_result"
    }
   ],
   "source": [
    "# 1.\n",
    "res.irf(3).svar_irfs"
   ]
  },
  {
   "cell_type": "code",
   "execution_count": 117,
   "id": "4420282d",
   "metadata": {},
   "outputs": [
    {
     "data": {
      "text/plain": [
       "array([[ 1.00865446, -0.54330806],\n",
       "       [ 0.        ,  0.95534329]])"
      ]
     },
     "execution_count": 117,
     "metadata": {},
     "output_type": "execute_result"
    }
   ],
   "source": [
    "# 2\n",
    "irf1 = np.linalg.inv(res.A)@res.B # for t\n",
    "irf1"
   ]
  },
  {
   "cell_type": "code",
   "execution_count": 118,
   "id": "28157767",
   "metadata": {},
   "outputs": [
    {
     "name": "stdout",
     "output_type": "stream",
     "text": [
      "[[[ 0.19405962  0.26598083]\n",
      "  [ 0.18663695 -0.12757857]]]\n",
      "[[[0.10971934 0.00169452]\n",
      "  [0.03062395 0.05282786]]]\n",
      "[[[ 0.03298627  0.02081422]\n",
      "  [ 0.01943497 -0.00118209]]]\n"
     ]
    }
   ],
   "source": [
    "# then use coefs\n",
    "print(res.coefs@irf1) # t+1\n",
    "print(np.linalg.matrix_power(res.coefs,2)@irf1) # t+2\n",
    "print(np.linalg.matrix_power(res.coefs,3)@irf1) # t+3"
   ]
  }
 ],
 "metadata": {
  "kernelspec": {
   "display_name": "Python 3 (ipykernel)",
   "language": "python",
   "name": "python3"
  },
  "language_info": {
   "codemirror_mode": {
    "name": "ipython",
    "version": 3
   },
   "file_extension": ".py",
   "mimetype": "text/x-python",
   "name": "python",
   "nbconvert_exporter": "python",
   "pygments_lexer": "ipython3",
   "version": "3.9.12"
  }
 },
 "nbformat": 4,
 "nbformat_minor": 5
}
