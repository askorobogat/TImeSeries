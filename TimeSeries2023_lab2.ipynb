{
 "cells": [
  {
   "cell_type": "markdown",
   "id": "53c3fa18",
   "metadata": {},
   "source": [
    "### TIme Series Econometrics 2023"
   ]
  },
  {
   "cell_type": "code",
   "execution_count": 3,
   "id": "8ccdf744",
   "metadata": {},
   "outputs": [
    {
     "data": {
      "text/plain": [
       "'D:\\\\Documents\\\\2022-2023 school year\\\\TimeSeries2023\\\\Seminars\\\\Лаба2'"
      ]
     },
     "execution_count": 3,
     "metadata": {},
     "output_type": "execute_result"
    }
   ],
   "source": [
    "import pandas as pd\n",
    "import numpy as np\n",
    "import matplotlib.pyplot as plt\n",
    "import os\n",
    "\n",
    "# Change the current working directory\n",
    "os.chdir('D:/Documents/2022-2023 school year/TimeSeries2023/Seminars/Лаба2')\n",
    "os.getcwd()"
   ]
  },
  {
   "cell_type": "markdown",
   "id": "00177809",
   "metadata": {},
   "source": [
    "### Данные\n",
    "Взять цену одной из российских акций из файла Russtockdaily либо один из фондовых индексов из файла WorldIndDaily"
   ]
  },
  {
   "cell_type": "code",
   "execution_count": 95,
   "id": "3a14ab2e",
   "metadata": {},
   "outputs": [
    {
     "data": {
      "text/html": [
       "<div>\n",
       "<style scoped>\n",
       "    .dataframe tbody tr th:only-of-type {\n",
       "        vertical-align: middle;\n",
       "    }\n",
       "\n",
       "    .dataframe tbody tr th {\n",
       "        vertical-align: top;\n",
       "    }\n",
       "\n",
       "    .dataframe thead th {\n",
       "        text-align: right;\n",
       "    }\n",
       "</style>\n",
       "<table border=\"1\" class=\"dataframe\">\n",
       "  <thead>\n",
       "    <tr style=\"text-align: right;\">\n",
       "      <th></th>\n",
       "      <th>0</th>\n",
       "      <th>29</th>\n",
       "    </tr>\n",
       "  </thead>\n",
       "  <tbody>\n",
       "    <tr>\n",
       "      <th>1</th>\n",
       "      <td>05.01.1999</td>\n",
       "      <td>NaN</td>\n",
       "    </tr>\n",
       "    <tr>\n",
       "      <th>2</th>\n",
       "      <td>06.01.1999</td>\n",
       "      <td>NaN</td>\n",
       "    </tr>\n",
       "    <tr>\n",
       "      <th>3</th>\n",
       "      <td>10.01.1999</td>\n",
       "      <td>NaN</td>\n",
       "    </tr>\n",
       "    <tr>\n",
       "      <th>4</th>\n",
       "      <td>11.01.1999</td>\n",
       "      <td>NaN</td>\n",
       "    </tr>\n",
       "    <tr>\n",
       "      <th>5</th>\n",
       "      <td>12.01.1999</td>\n",
       "      <td>NaN</td>\n",
       "    </tr>\n",
       "    <tr>\n",
       "      <th>...</th>\n",
       "      <td>...</td>\n",
       "      <td>...</td>\n",
       "    </tr>\n",
       "    <tr>\n",
       "      <th>4437</th>\n",
       "      <td>19.10.2016</td>\n",
       "      <td>120,22</td>\n",
       "    </tr>\n",
       "    <tr>\n",
       "      <th>4438</th>\n",
       "      <td>20.10.2016</td>\n",
       "      <td>124</td>\n",
       "    </tr>\n",
       "    <tr>\n",
       "      <th>4439</th>\n",
       "      <td>21.10.2016</td>\n",
       "      <td>126,69</td>\n",
       "    </tr>\n",
       "    <tr>\n",
       "      <th>4440</th>\n",
       "      <td>24.10.2016</td>\n",
       "      <td>129,99</td>\n",
       "    </tr>\n",
       "    <tr>\n",
       "      <th>4441</th>\n",
       "      <td>25.10.2016</td>\n",
       "      <td>128,67</td>\n",
       "    </tr>\n",
       "  </tbody>\n",
       "</table>\n",
       "<p>4441 rows × 2 columns</p>\n",
       "</div>"
      ],
      "text/plain": [
       "              0       29\n",
       "1     05.01.1999     NaN\n",
       "2     06.01.1999     NaN\n",
       "3     10.01.1999     NaN\n",
       "4     11.01.1999     NaN\n",
       "5     12.01.1999     NaN\n",
       "...          ...     ...\n",
       "4437  19.10.2016  120,22\n",
       "4438  20.10.2016     124\n",
       "4439  21.10.2016  126,69\n",
       "4440  24.10.2016  129,99\n",
       "4441  25.10.2016  128,67\n",
       "\n",
       "[4441 rows x 2 columns]"
      ]
     },
     "execution_count": 95,
     "metadata": {},
     "output_type": "execute_result"
    }
   ],
   "source": [
    "df = pd.read_csv('Russtockdaily.txt', sep=\"\\t\", header=None)\n",
    "df = df[[0,29]].iloc[1:]\n",
    "df"
   ]
  },
  {
   "cell_type": "code",
   "execution_count": 96,
   "id": "8831ced8",
   "metadata": {},
   "outputs": [
    {
     "data": {
      "text/html": [
       "<div>\n",
       "<style scoped>\n",
       "    .dataframe tbody tr th:only-of-type {\n",
       "        vertical-align: middle;\n",
       "    }\n",
       "\n",
       "    .dataframe tbody tr th {\n",
       "        vertical-align: top;\n",
       "    }\n",
       "\n",
       "    .dataframe thead th {\n",
       "        text-align: right;\n",
       "    }\n",
       "</style>\n",
       "<table border=\"1\" class=\"dataframe\">\n",
       "  <thead>\n",
       "    <tr style=\"text-align: right;\">\n",
       "      <th></th>\n",
       "      <th>0</th>\n",
       "      <th>29</th>\n",
       "      <th>stock</th>\n",
       "    </tr>\n",
       "  </thead>\n",
       "  <tbody>\n",
       "    <tr>\n",
       "      <th>151</th>\n",
       "      <td>11.08.1999</td>\n",
       "      <td>4.00</td>\n",
       "      <td>1.386294</td>\n",
       "    </tr>\n",
       "    <tr>\n",
       "      <th>152</th>\n",
       "      <td>12.08.1999</td>\n",
       "      <td>4.00</td>\n",
       "      <td>1.386294</td>\n",
       "    </tr>\n",
       "    <tr>\n",
       "      <th>153</th>\n",
       "      <td>13.08.1999</td>\n",
       "      <td>4.00</td>\n",
       "      <td>1.386294</td>\n",
       "    </tr>\n",
       "    <tr>\n",
       "      <th>154</th>\n",
       "      <td>16.08.1999</td>\n",
       "      <td>4.00</td>\n",
       "      <td>1.386294</td>\n",
       "    </tr>\n",
       "    <tr>\n",
       "      <th>155</th>\n",
       "      <td>17.08.1999</td>\n",
       "      <td>4.00</td>\n",
       "      <td>1.386294</td>\n",
       "    </tr>\n",
       "    <tr>\n",
       "      <th>...</th>\n",
       "      <td>...</td>\n",
       "      <td>...</td>\n",
       "      <td>...</td>\n",
       "    </tr>\n",
       "    <tr>\n",
       "      <th>4437</th>\n",
       "      <td>19.10.2016</td>\n",
       "      <td>120.22</td>\n",
       "      <td>4.789323</td>\n",
       "    </tr>\n",
       "    <tr>\n",
       "      <th>4438</th>\n",
       "      <td>20.10.2016</td>\n",
       "      <td>124.00</td>\n",
       "      <td>4.820282</td>\n",
       "    </tr>\n",
       "    <tr>\n",
       "      <th>4439</th>\n",
       "      <td>21.10.2016</td>\n",
       "      <td>126.69</td>\n",
       "      <td>4.841743</td>\n",
       "    </tr>\n",
       "    <tr>\n",
       "      <th>4440</th>\n",
       "      <td>24.10.2016</td>\n",
       "      <td>129.99</td>\n",
       "      <td>4.867458</td>\n",
       "    </tr>\n",
       "    <tr>\n",
       "      <th>4441</th>\n",
       "      <td>25.10.2016</td>\n",
       "      <td>128.67</td>\n",
       "      <td>4.857251</td>\n",
       "    </tr>\n",
       "  </tbody>\n",
       "</table>\n",
       "<p>4291 rows × 3 columns</p>\n",
       "</div>"
      ],
      "text/plain": [
       "               0      29     stock\n",
       "151   11.08.1999    4.00  1.386294\n",
       "152   12.08.1999    4.00  1.386294\n",
       "153   13.08.1999    4.00  1.386294\n",
       "154   16.08.1999    4.00  1.386294\n",
       "155   17.08.1999    4.00  1.386294\n",
       "...          ...     ...       ...\n",
       "4437  19.10.2016  120.22  4.789323\n",
       "4438  20.10.2016  124.00  4.820282\n",
       "4439  21.10.2016  126.69  4.841743\n",
       "4440  24.10.2016  129.99  4.867458\n",
       "4441  25.10.2016  128.67  4.857251\n",
       "\n",
       "[4291 rows x 3 columns]"
      ]
     },
     "execution_count": 96,
     "metadata": {},
     "output_type": "execute_result"
    }
   ],
   "source": [
    "df[29] = df[29].str.replace(',','.')\n",
    "df[29] = df[29].astype(float)\n",
    "df['stock'] = np.log(df[29])\n",
    "df = df.dropna()\n",
    "df"
   ]
  },
  {
   "cell_type": "markdown",
   "id": "2a653606",
   "metadata": {},
   "source": [
    "### Задание 1\n",
    "Для выбранной акции (или индекса) сравнить между собой различные спецификации моделей волатильности (GARCH, IGARCH, EGARCH, TGARCH, GARCH-M, число параметров не более 4-6) на основе:  \n",
    "а. отсутствия автокорреляции в остатках и квадрате остатков,  \n",
    "б. минимуме информационных критериев,  \n",
    "в. экономии параметров."
   ]
  },
  {
   "cell_type": "code",
   "execution_count": 97,
   "id": "bd2f450d",
   "metadata": {},
   "outputs": [
    {
     "data": {
      "text/plain": [
       "[<matplotlib.lines.Line2D at 0x12d1d561f70>]"
      ]
     },
     "execution_count": 97,
     "metadata": {},
     "output_type": "execute_result"
    },
    {
     "data": {
      "image/png": "[encoded data removed]",
      "text/plain": [
       "<Figure size 432x288 with 1 Axes>"
      ]
     },
     "metadata": {
      "needs_background": "light"
     },
     "output_type": "display_data"
    }
   ],
   "source": [
    "# Visualize\n",
    "plt.plot(df['stock'])"
   ]
  },
  {
   "cell_type": "code",
   "execution_count": 98,
   "id": "96bdbc1e",
   "metadata": {},
   "outputs": [
    {
     "name": "stderr",
     "output_type": "stream",
     "text": [
      "C:\\Users\\Alex\\anaconda3\\lib\\site-packages\\statsmodels\\graphics\\tsaplots.py:348: FutureWarning: The default method 'yw' can produce PACF values outside of the [-1,1] interval. After 0.13, the default will change tounadjusted Yule-Walker ('ywm'). You can use this method now by setting method='ywm'.\n",
      "  warnings.warn(\n"
     ]
    },
    {
     "data": {
      "image/png": "[encoded data removed]",
      "text/plain": [
       "<Figure size 432x288 with 1 Axes>"
      ]
     },
     "execution_count": 98,
     "metadata": {},
     "output_type": "execute_result"
    },
    {
     "data": {
      "image/png": "[encoded data removed]",
      "text/plain": [
       "<Figure size 432x288 with 1 Axes>"
      ]
     },
     "metadata": {
      "needs_background": "light"
     },
     "output_type": "display_data"
    }
   ],
   "source": [
    "# PACF\n",
    "from statsmodels.graphics.tsaplots import plot_pacf\n",
    "plot_pacf(df['stock'])"
   ]
  },
  {
   "cell_type": "code",
   "execution_count": 99,
   "id": "6b79d969",
   "metadata": {},
   "outputs": [
    {
     "ename": "TypeError",
     "evalue": "'Figure' object is not subscriptable",
     "output_type": "error",
     "traceback": [
      "\u001b[1;31m---------------------------------------------------------------------------\u001b[0m",
      "\u001b[1;31mTypeError\u001b[0m                                 Traceback (most recent call last)",
      "Input \u001b[1;32mIn [99]\u001b[0m, in \u001b[0;36m<cell line: 2>\u001b[1;34m()\u001b[0m\n\u001b[0;32m      1\u001b[0m \u001b[38;5;28;01mfrom\u001b[39;00m \u001b[38;5;21;01mstatsmodels\u001b[39;00m\u001b[38;5;21;01m.\u001b[39;00m\u001b[38;5;21;01mgraphics\u001b[39;00m\u001b[38;5;21;01m.\u001b[39;00m\u001b[38;5;21;01mtsaplots\u001b[39;00m \u001b[38;5;28;01mimport\u001b[39;00m plot_acf\n\u001b[1;32m----> 2\u001b[0m \u001b[43mplot_acf\u001b[49m\u001b[43m(\u001b[49m\u001b[43mdf\u001b[49m\u001b[43m[\u001b[49m\u001b[38;5;124;43m'\u001b[39;49m\u001b[38;5;124;43mstock\u001b[39;49m\u001b[38;5;124;43m'\u001b[39;49m\u001b[43m]\u001b[49m\u001b[43m)\u001b[49m\u001b[43m[\u001b[49m\u001b[38;5;241;43m0\u001b[39;49m\u001b[43m]\u001b[49m\n",
      "\u001b[1;31mTypeError\u001b[0m: 'Figure' object is not subscriptable"
     ]
    },
    {
     "data": {
      "image/png": "[encoded data removed]",
      "text/plain": [
       "<Figure size 432x288 with 1 Axes>"
      ]
     },
     "metadata": {
      "needs_background": "light"
     },
     "output_type": "display_data"
    }
   ],
   "source": [
    "from statsmodels.graphics.tsaplots import plot_acf\n",
    "plot_acf(df['stock'])[0]"
   ]
  },
  {
   "cell_type": "code",
   "execution_count": 101,
   "id": "6172751a",
   "metadata": {},
   "outputs": [
    {
     "data": {
      "text/plain": [
       "(-2.005162332999438,\n",
       " 0.5986187901657161,\n",
       " 4,\n",
       " 4286,\n",
       " {'1%': -3.9608837984276333,\n",
       "  '5%': -3.4115148508468227,\n",
       "  '10%': -3.1276534803991103},\n",
       " -17625.476063416616)"
      ]
     },
     "execution_count": 101,
     "metadata": {},
     "output_type": "execute_result"
    }
   ],
   "source": [
    "# DF test\n",
    "from statsmodels.tsa.stattools import adfuller\n",
    "\n",
    "#perform augmented Dickey-Fuller test\n",
    "adfuller(df['stock'],regression='ct')"
   ]
  },
  {
   "cell_type": "code",
   "execution_count": 111,
   "id": "1614978d",
   "metadata": {},
   "outputs": [
    {
     "data": {
      "text/plain": [
       "152     1.386294\n",
       "153     1.386294\n",
       "154     1.386294\n",
       "155     1.386294\n",
       "156     1.386294\n",
       "          ...   \n",
       "4437    4.789323\n",
       "4438    4.820282\n",
       "4439    4.841743\n",
       "4440    4.867458\n",
       "4441    4.857251\n",
       "Name: stock, Length: 4290, dtype: float64"
      ]
     },
     "execution_count": 111,
     "metadata": {},
     "output_type": "execute_result"
    }
   ],
   "source": [
    "df['stock'].iloc[1:]"
   ]
  },
  {
   "cell_type": "code",
   "execution_count": 117,
   "id": "816bd97d",
   "metadata": {},
   "outputs": [
    {
     "name": "stderr",
     "output_type": "stream",
     "text": [
      "C:\\Users\\Alex\\AppData\\Local\\Temp\\ipykernel_9884\\1797835158.py:1: SettingWithCopyWarning: \n",
      "A value is trying to be set on a copy of a slice from a DataFrame.\n",
      "Try using .loc[row_indexer,col_indexer] = value instead\n",
      "\n",
      "See the caveats in the documentation: https://pandas.pydata.org/pandas-docs/stable/user_guide/indexing.html#returning-a-view-versus-a-copy\n",
      "  df['dif'] = 0\n"
     ]
    }
   ],
   "source": [
    "df['dif'] = 0"
   ]
  },
  {
   "cell_type": "code",
   "execution_count": 118,
   "id": "9d500b94",
   "metadata": {},
   "outputs": [
    {
     "name": "stderr",
     "output_type": "stream",
     "text": [
      "C:\\Users\\Alex\\AppData\\Local\\Temp\\ipykernel_9884\\607193261.py:1: SettingWithCopyWarning: \n",
      "A value is trying to be set on a copy of a slice from a DataFrame\n",
      "\n",
      "See the caveats in the documentation: https://pandas.pydata.org/pandas-docs/stable/user_guide/indexing.html#returning-a-view-versus-a-copy\n",
      "  df['dif'].iloc[1:] = np.diff(df['stock'])\n"
     ]
    }
   ],
   "source": [
    "df['dif'].iloc[1:] = np.diff(df['stock'])"
   ]
  },
  {
   "cell_type": "code",
   "execution_count": 119,
   "id": "44d28b6d",
   "metadata": {},
   "outputs": [
    {
     "data": {
      "text/plain": [
       "0.030958999999999293"
      ]
     },
     "execution_count": 119,
     "metadata": {},
     "output_type": "execute_result"
    }
   ],
   "source": [
    "4.820282 - 4.789323"
   ]
  },
  {
   "cell_type": "code",
   "execution_count": 120,
   "id": "40020373",
   "metadata": {},
   "outputs": [
    {
     "data": {
      "text/html": [
       "<div>\n",
       "<style scoped>\n",
       "    .dataframe tbody tr th:only-of-type {\n",
       "        vertical-align: middle;\n",
       "    }\n",
       "\n",
       "    .dataframe tbody tr th {\n",
       "        vertical-align: top;\n",
       "    }\n",
       "\n",
       "    .dataframe thead th {\n",
       "        text-align: right;\n",
       "    }\n",
       "</style>\n",
       "<table border=\"1\" class=\"dataframe\">\n",
       "  <thead>\n",
       "    <tr style=\"text-align: right;\">\n",
       "      <th></th>\n",
       "      <th>0</th>\n",
       "      <th>29</th>\n",
       "      <th>stock</th>\n",
       "      <th>dif</th>\n",
       "    </tr>\n",
       "  </thead>\n",
       "  <tbody>\n",
       "    <tr>\n",
       "      <th>151</th>\n",
       "      <td>11.08.1999</td>\n",
       "      <td>4.00</td>\n",
       "      <td>1.386294</td>\n",
       "      <td>0.000000</td>\n",
       "    </tr>\n",
       "    <tr>\n",
       "      <th>152</th>\n",
       "      <td>12.08.1999</td>\n",
       "      <td>4.00</td>\n",
       "      <td>1.386294</td>\n",
       "      <td>0.000000</td>\n",
       "    </tr>\n",
       "    <tr>\n",
       "      <th>153</th>\n",
       "      <td>13.08.1999</td>\n",
       "      <td>4.00</td>\n",
       "      <td>1.386294</td>\n",
       "      <td>0.000000</td>\n",
       "    </tr>\n",
       "    <tr>\n",
       "      <th>154</th>\n",
       "      <td>16.08.1999</td>\n",
       "      <td>4.00</td>\n",
       "      <td>1.386294</td>\n",
       "      <td>0.000000</td>\n",
       "    </tr>\n",
       "    <tr>\n",
       "      <th>155</th>\n",
       "      <td>17.08.1999</td>\n",
       "      <td>4.00</td>\n",
       "      <td>1.386294</td>\n",
       "      <td>0.000000</td>\n",
       "    </tr>\n",
       "    <tr>\n",
       "      <th>...</th>\n",
       "      <td>...</td>\n",
       "      <td>...</td>\n",
       "      <td>...</td>\n",
       "      <td>...</td>\n",
       "    </tr>\n",
       "    <tr>\n",
       "      <th>4437</th>\n",
       "      <td>19.10.2016</td>\n",
       "      <td>120.22</td>\n",
       "      <td>4.789323</td>\n",
       "      <td>0.018046</td>\n",
       "    </tr>\n",
       "    <tr>\n",
       "      <th>4438</th>\n",
       "      <td>20.10.2016</td>\n",
       "      <td>124.00</td>\n",
       "      <td>4.820282</td>\n",
       "      <td>0.030958</td>\n",
       "    </tr>\n",
       "    <tr>\n",
       "      <th>4439</th>\n",
       "      <td>21.10.2016</td>\n",
       "      <td>126.69</td>\n",
       "      <td>4.841743</td>\n",
       "      <td>0.021462</td>\n",
       "    </tr>\n",
       "    <tr>\n",
       "      <th>4440</th>\n",
       "      <td>24.10.2016</td>\n",
       "      <td>129.99</td>\n",
       "      <td>4.867458</td>\n",
       "      <td>0.025714</td>\n",
       "    </tr>\n",
       "    <tr>\n",
       "      <th>4441</th>\n",
       "      <td>25.10.2016</td>\n",
       "      <td>128.67</td>\n",
       "      <td>4.857251</td>\n",
       "      <td>-0.010207</td>\n",
       "    </tr>\n",
       "  </tbody>\n",
       "</table>\n",
       "<p>4291 rows × 4 columns</p>\n",
       "</div>"
      ],
      "text/plain": [
       "               0      29     stock       dif\n",
       "151   11.08.1999    4.00  1.386294  0.000000\n",
       "152   12.08.1999    4.00  1.386294  0.000000\n",
       "153   13.08.1999    4.00  1.386294  0.000000\n",
       "154   16.08.1999    4.00  1.386294  0.000000\n",
       "155   17.08.1999    4.00  1.386294  0.000000\n",
       "...          ...     ...       ...       ...\n",
       "4437  19.10.2016  120.22  4.789323  0.018046\n",
       "4438  20.10.2016  124.00  4.820282  0.030958\n",
       "4439  21.10.2016  126.69  4.841743  0.021462\n",
       "4440  24.10.2016  129.99  4.867458  0.025714\n",
       "4441  25.10.2016  128.67  4.857251 -0.010207\n",
       "\n",
       "[4291 rows x 4 columns]"
      ]
     },
     "execution_count": 120,
     "metadata": {},
     "output_type": "execute_result"
    }
   ],
   "source": [
    "df"
   ]
  },
  {
   "cell_type": "code",
   "execution_count": 125,
   "id": "8b1ec1cf",
   "metadata": {},
   "outputs": [
    {
     "data": {
      "text/plain": [
       "[<matplotlib.lines.Line2D at 0x12d1f3cb970>]"
      ]
     },
     "execution_count": 125,
     "metadata": {},
     "output_type": "execute_result"
    },
    {
     "data": {
      "image/png": "[encoded data removed]",
      "text/plain": [
       "<Figure size 432x288 with 1 Axes>"
      ]
     },
     "metadata": {
      "needs_background": "light"
     },
     "output_type": "display_data"
    }
   ],
   "source": [
    "plt.plot(df['dif'])"
   ]
  },
  {
   "cell_type": "code",
   "execution_count": 122,
   "id": "b3bfeec0",
   "metadata": {},
   "outputs": [
    {
     "name": "stderr",
     "output_type": "stream",
     "text": [
      "C:\\Users\\Alex\\anaconda3\\lib\\site-packages\\statsmodels\\graphics\\tsaplots.py:348: FutureWarning: The default method 'yw' can produce PACF values outside of the [-1,1] interval. After 0.13, the default will change tounadjusted Yule-Walker ('ywm'). You can use this method now by setting method='ywm'.\n",
      "  warnings.warn(\n"
     ]
    },
    {
     "data": {
      "image/png": "[encoded data removed]",
      "text/plain": [
       "<Figure size 432x288 with 1 Axes>"
      ]
     },
     "execution_count": 122,
     "metadata": {},
     "output_type": "execute_result"
    },
    {
     "data": {
      "image/png": "[encoded data removed]",
      "text/plain": [
       "<Figure size 432x288 with 1 Axes>"
      ]
     },
     "metadata": {
      "needs_background": "light"
     },
     "output_type": "display_data"
    }
   ],
   "source": [
    "# PACF\n",
    "from statsmodels.graphics.tsaplots import plot_pacf\n",
    "plot_pacf(df['dif'])"
   ]
  },
  {
   "cell_type": "code",
   "execution_count": 124,
   "id": "b3711819",
   "metadata": {},
   "outputs": [
    {
     "ename": "TypeError",
     "evalue": "'Figure' object is not subscriptable",
     "output_type": "error",
     "traceback": [
      "\u001b[1;31m---------------------------------------------------------------------------\u001b[0m",
      "\u001b[1;31mTypeError\u001b[0m                                 Traceback (most recent call last)",
      "Input \u001b[1;32mIn [124]\u001b[0m, in \u001b[0;36m<cell line: 2>\u001b[1;34m()\u001b[0m\n\u001b[0;32m      1\u001b[0m \u001b[38;5;28;01mfrom\u001b[39;00m \u001b[38;5;21;01mstatsmodels\u001b[39;00m\u001b[38;5;21;01m.\u001b[39;00m\u001b[38;5;21;01mgraphics\u001b[39;00m\u001b[38;5;21;01m.\u001b[39;00m\u001b[38;5;21;01mtsaplots\u001b[39;00m \u001b[38;5;28;01mimport\u001b[39;00m plot_acf\n\u001b[1;32m----> 2\u001b[0m \u001b[43mplot_acf\u001b[49m\u001b[43m(\u001b[49m\u001b[43mdf\u001b[49m\u001b[43m[\u001b[49m\u001b[38;5;124;43m'\u001b[39;49m\u001b[38;5;124;43mdif\u001b[39;49m\u001b[38;5;124;43m'\u001b[39;49m\u001b[43m]\u001b[49m\u001b[43m)\u001b[49m\u001b[43m[\u001b[49m\u001b[38;5;241;43m0\u001b[39;49m\u001b[43m]\u001b[49m\n",
      "\u001b[1;31mTypeError\u001b[0m: 'Figure' object is not subscriptable"
     ]
    },
    {
     "data": {
      "image/png": "[encoded data removed]",
      "text/plain": [
       "<Figure size 432x288 with 1 Axes>"
      ]
     },
     "metadata": {
      "needs_background": "light"
     },
     "output_type": "display_data"
    }
   ],
   "source": [
    "from statsmodels.graphics.tsaplots import plot_acf\n",
    "plot_acf(df['dif'])[0]"
   ]
  },
  {
   "cell_type": "code",
   "execution_count": 139,
   "id": "d6325562",
   "metadata": {},
   "outputs": [
    {
     "data": {
      "text/plain": [
       "(-70.3209625360256,\n",
       " 0.0,\n",
       " 0,\n",
       " 4290,\n",
       " {'1%': -3.4318752254397578,\n",
       "  '5%': -2.862213960168296,\n",
       "  '10%': -2.5671287540276353},\n",
       " -17453.883966656085)"
      ]
     },
     "execution_count": 139,
     "metadata": {},
     "output_type": "execute_result"
    }
   ],
   "source": [
    "adfuller(df['dif'],maxlag=1)"
   ]
  },
  {
   "cell_type": "code",
   "execution_count": 161,
   "id": "db2c7c38",
   "metadata": {},
   "outputs": [
    {
     "name": "stderr",
     "output_type": "stream",
     "text": [
      "C:\\Users\\Alex\\anaconda3\\lib\\site-packages\\statsmodels\\tsa\\base\\tsa_model.py:471: ValueWarning: An unsupported index was provided and will be ignored when e.g. forecasting.\n",
      "  self._init_dates(dates, freq)\n",
      "C:\\Users\\Alex\\anaconda3\\lib\\site-packages\\statsmodels\\tsa\\base\\tsa_model.py:471: ValueWarning: An unsupported index was provided and will be ignored when e.g. forecasting.\n",
      "  self._init_dates(dates, freq)\n",
      "C:\\Users\\Alex\\anaconda3\\lib\\site-packages\\statsmodels\\tsa\\base\\tsa_model.py:471: ValueWarning: An unsupported index was provided and will be ignored when e.g. forecasting.\n",
      "  self._init_dates(dates, freq)\n"
     ]
    },
    {
     "name": "stdout",
     "output_type": "stream",
     "text": [
      "const     0.000806\n",
      "ma.L1    -0.071928\n",
      "sigma2    0.000999\n",
      "dtype: float64\n"
     ]
    }
   ],
   "source": [
    "from statsmodels.tsa.arima.model import ARIMA\n",
    "arma = ARIMA(df['dif'], order=(0, 0, 1)).fit()\n",
    "print(arma.params)"
   ]
  },
  {
   "cell_type": "code",
   "execution_count": 166,
   "id": "39d72aa5",
   "metadata": {},
   "outputs": [
    {
     "data": {
      "text/html": [
       "<div>\n",
       "<style scoped>\n",
       "    .dataframe tbody tr th:only-of-type {\n",
       "        vertical-align: middle;\n",
       "    }\n",
       "\n",
       "    .dataframe tbody tr th {\n",
       "        vertical-align: top;\n",
       "    }\n",
       "\n",
       "    .dataframe thead th {\n",
       "        text-align: right;\n",
       "    }\n",
       "</style>\n",
       "<table border=\"1\" class=\"dataframe\">\n",
       "  <thead>\n",
       "    <tr style=\"text-align: right;\">\n",
       "      <th></th>\n",
       "      <th>lb_stat</th>\n",
       "      <th>lb_pvalue</th>\n",
       "    </tr>\n",
       "  </thead>\n",
       "  <tbody>\n",
       "    <tr>\n",
       "      <th>5</th>\n",
       "      <td>6.099028</td>\n",
       "      <td>0.296702</td>\n",
       "    </tr>\n",
       "  </tbody>\n",
       "</table>\n",
       "</div>"
      ],
      "text/plain": [
       "    lb_stat  lb_pvalue\n",
       "5  6.099028   0.296702"
      ]
     },
     "execution_count": 166,
     "metadata": {},
     "output_type": "execute_result"
    }
   ],
   "source": [
    "import statsmodels.api as sm\n",
    "sm.stats.acorr_ljungbox(arma.resid, lags=[5], return_df=True)"
   ]
  },
  {
   "cell_type": "code",
   "execution_count": 169,
   "id": "800f432a",
   "metadata": {},
   "outputs": [
    {
     "name": "stdout",
     "output_type": "stream",
     "text": [
      "Collecting pyflux\n",
      "  Downloading pyflux-0.4.15.tar.gz (1.3 MB)\n",
      "Requirement already satisfied: numpy in c:\\users\\alex\\anaconda3\\lib\\site-packages (from pyflux) (1.21.5)\n",
      "Requirement already satisfied: pandas in c:\\users\\alex\\anaconda3\\lib\\site-packages (from pyflux) (1.4.2)\n",
      "Requirement already satisfied: scipy in c:\\users\\alex\\anaconda3\\lib\\site-packages (from pyflux) (1.7.3)\n",
      "Collecting numdifftools\n",
      "  Downloading numdifftools-0.9.41-py2.py3-none-any.whl (100 kB)\n",
      "Requirement already satisfied: patsy in c:\\users\\alex\\anaconda3\\lib\\site-packages (from pyflux) (0.5.2)\n",
      "Requirement already satisfied: pytz>=2020.1 in c:\\users\\alex\\anaconda3\\lib\\site-packages (from pandas->pyflux) (2021.3)\n",
      "Requirement already satisfied: python-dateutil>=2.8.1 in c:\\users\\alex\\anaconda3\\lib\\site-packages (from pandas->pyflux) (2.8.2)\n",
      "Requirement already satisfied: six>=1.5 in c:\\users\\alex\\anaconda3\\lib\\site-packages (from python-dateutil>=2.8.1->pandas->pyflux) (1.16.0)\n",
      "Building wheels for collected packages: pyflux\n",
      "  Building wheel for pyflux (setup.py): started\n",
      "  Building wheel for pyflux (setup.py): finished with status 'error'\n",
      "  Running setup.py clean for pyflux\n",
      "Failed to build pyflux\n",
      "Installing collected packages: numdifftools, pyflux\n",
      "    Running setup.py install for pyflux: started\n",
      "    Running setup.py install for pyflux: finished with status 'error'\n",
      "Note: you may need to restart the kernel to use updated packages.\n"
     ]
    },
    {
     "name": "stderr",
     "output_type": "stream",
     "text": [
      "  ERROR: Command errored out with exit status 1:\n",
      "   command: 'C:\\Users\\Alex\\anaconda3\\python.exe' -u -c 'import io, os, sys, setuptools, tokenize; sys.argv[0] = '\"'\"'C:\\\\Users\\\\Alex\\\\AppData\\\\Local\\\\Temp\\\\pip-install-s9reatmu\\\\pyflux_8979561386f847b6850ea17111bd4f61\\\\setup.py'\"'\"'; __file__='\"'\"'C:\\\\Users\\\\Alex\\\\AppData\\\\Local\\\\Temp\\\\pip-install-s9reatmu\\\\pyflux_8979561386f847b6850ea17111bd4f61\\\\setup.py'\"'\"';f = getattr(tokenize, '\"'\"'open'\"'\"', open)(__file__) if os.path.exists(__file__) else io.StringIO('\"'\"'from setuptools import setup; setup()'\"'\"');code = f.read().replace('\"'\"'\\r\\n'\"'\"', '\"'\"'\\n'\"'\"');f.close();exec(compile(code, __file__, '\"'\"'exec'\"'\"'))' bdist_wheel -d 'C:\\Users\\Alex\\AppData\\Local\\Temp\\pip-wheel-gi20d5sg'\n",
      "       cwd: C:\\Users\\Alex\\AppData\\Local\\Temp\\pip-install-s9reatmu\\pyflux_8979561386f847b6850ea17111bd4f61\\\n",
      "  Complete output (142 lines):\n",
      "  running bdist_wheel\n",
      "  running build\n",
      "  running config_cc\n",
      "  unifing config_cc, config, build_clib, build_ext, build commands --compiler options\n",
      "  running config_fc\n",
      "  unifing config_fc, config, build_clib, build_ext, build commands --fcompiler options\n",
      "  running build_src\n",
      "  build_src\n",
      "  building extension \"pyflux.__check_build._check_build\" sources\n",
      "  building extension \"pyflux.arma.arma_recursions\" sources\n",
      "  building extension \"pyflux.arma.nn_architecture\" sources\n",
      "  building extension \"pyflux.families.gas_recursions\" sources\n",
      "  building extension \"pyflux.families.poisson_kalman_recursions\" sources\n",
      "  building extension \"pyflux.garch.garch_recursions\" sources\n",
      "  building extension \"pyflux.gas.gas_core_recursions\" sources\n",
      "  building extension \"pyflux.gpnarx.kernel_routines\" sources\n",
      "  building extension \"pyflux.inference.metropolis_sampler\" sources\n",
      "  building extension \"pyflux.inference.bbvi_routines\" sources\n",
      "  building extension \"pyflux.ssm.kalman\" sources\n",
      "  building extension \"pyflux.var.var_recursions\" sources\n",
      "  build_src: building npy-pkg config files\n",
      "  C:\\Users\\Alex\\anaconda3\\lib\\site-packages\\setuptools\\command\\install.py:34: SetuptoolsDeprecationWarning: setup.py install is deprecated. Use build and pip and other standards-based tools.\n",
      "    warnings.warn(\n",
      "  running build_py\n",
      "  creating build\n",
      "  creating build\\lib.win-amd64-3.9\n",
      "  creating build\\lib.win-amd64-3.9\\pyflux\n",
      "  copying pyflux\\covariances.py -> build\\lib.win-amd64-3.9\\pyflux\n",
      "  copying pyflux\\data_check.py -> build\\lib.win-amd64-3.9\\pyflux\n",
      "  copying pyflux\\latent_variables.py -> build\\lib.win-amd64-3.9\\pyflux\n",
      "  copying pyflux\\results.py -> build\\lib.win-amd64-3.9\\pyflux\n",
      "  copying pyflux\\setup.py -> build\\lib.win-amd64-3.9\\pyflux\n",
      "  copying pyflux\\tsm.py -> build\\lib.win-amd64-3.9\\pyflux\n",
      "  copying pyflux\\__init__.py -> build\\lib.win-amd64-3.9\\pyflux\n",
      "  creating build\\lib.win-amd64-3.9\\pyflux\\__check_build\n",
      "  copying pyflux\\__check_build\\setup.py -> build\\lib.win-amd64-3.9\\pyflux\\__check_build\n",
      "  copying pyflux\\__check_build\\__init__.py -> build\\lib.win-amd64-3.9\\pyflux\\__check_build\n",
      "  creating build\\lib.win-amd64-3.9\\pyflux\\arma\n",
      "  copying pyflux\\arma\\arimax.py -> build\\lib.win-amd64-3.9\\pyflux\\arma\n",
      "  copying pyflux\\arma\\arma.py -> build\\lib.win-amd64-3.9\\pyflux\\arma\n",
      "  copying pyflux\\arma\\nnar.py -> build\\lib.win-amd64-3.9\\pyflux\\arma\n",
      "  copying pyflux\\arma\\nnarx.py -> build\\lib.win-amd64-3.9\\pyflux\\arma\n",
      "  copying pyflux\\arma\\setup.py -> build\\lib.win-amd64-3.9\\pyflux\\arma\n",
      "  copying pyflux\\arma\\__init__.py -> build\\lib.win-amd64-3.9\\pyflux\\arma\n",
      "  creating build\\lib.win-amd64-3.9\\pyflux\\arma\\tests\n",
      "  copying pyflux\\arma\\tests\\test_arimax_cauchy.py -> build\\lib.win-amd64-3.9\\pyflux\\arma\\tests\n",
      "  copying pyflux\\arma\\tests\\test_arimax_exponential.py -> build\\lib.win-amd64-3.9\\pyflux\\arma\\tests\n",
      "  copying pyflux\\arma\\tests\\test_arimax_inference.py -> build\\lib.win-amd64-3.9\\pyflux\\arma\\tests\n",
      "  copying pyflux\\arma\\tests\\test_arimax_laplace.py -> build\\lib.win-amd64-3.9\\pyflux\\arma\\tests\n",
      "  copying pyflux\\arma\\tests\\test_arimax_normal.py -> build\\lib.win-amd64-3.9\\pyflux\\arma\\tests\n",
      "  copying pyflux\\arma\\tests\\test_arimax_poisson.py -> build\\lib.win-amd64-3.9\\pyflux\\arma\\tests\n",
      "  copying pyflux\\arma\\tests\\test_arimax_skewt.py -> build\\lib.win-amd64-3.9\\pyflux\\arma\\tests\n",
      "  copying pyflux\\arma\\tests\\test_arimax_t.py -> build\\lib.win-amd64-3.9\\pyflux\\arma\\tests\n",
      "  copying pyflux\\arma\\tests\\test_arima_cauchy.py -> build\\lib.win-amd64-3.9\\pyflux\\arma\\tests\n",
      "  copying pyflux\\arma\\tests\\test_arima_exponential.py -> build\\lib.win-amd64-3.9\\pyflux\\arma\\tests\n",
      "  copying pyflux\\arma\\tests\\test_arima_inference.py -> build\\lib.win-amd64-3.9\\pyflux\\arma\\tests\n",
      "  copying pyflux\\arma\\tests\\test_arima_laplace.py -> build\\lib.win-amd64-3.9\\pyflux\\arma\\tests\n",
      "  copying pyflux\\arma\\tests\\test_arima_normal.py -> build\\lib.win-amd64-3.9\\pyflux\\arma\\tests\n",
      "  copying pyflux\\arma\\tests\\test_arima_poisson.py -> build\\lib.win-amd64-3.9\\pyflux\\arma\\tests\n",
      "  copying pyflux\\arma\\tests\\test_arima_skewt.py -> build\\lib.win-amd64-3.9\\pyflux\\arma\\tests\n",
      "  copying pyflux\\arma\\tests\\test_arima_t.py -> build\\lib.win-amd64-3.9\\pyflux\\arma\\tests\n",
      "  copying pyflux\\arma\\tests\\__init__.py -> build\\lib.win-amd64-3.9\\pyflux\\arma\\tests\n",
      "  creating build\\lib.win-amd64-3.9\\pyflux\\ensembles\n",
      "  copying pyflux\\ensembles\\mixture_of_experts.py -> build\\lib.win-amd64-3.9\\pyflux\\ensembles\n",
      "  copying pyflux\\ensembles\\__init__.py -> build\\lib.win-amd64-3.9\\pyflux\\ensembles\n",
      "  creating build\\lib.win-amd64-3.9\\pyflux\\families\n",
      "  copying pyflux\\families\\cauchy.py -> build\\lib.win-amd64-3.9\\pyflux\\families\n",
      "  copying pyflux\\families\\exponential.py -> build\\lib.win-amd64-3.9\\pyflux\\families\n",
      "  copying pyflux\\families\\family.py -> build\\lib.win-amd64-3.9\\pyflux\\families\n",
      "  copying pyflux\\families\\flat.py -> build\\lib.win-amd64-3.9\\pyflux\\families\n",
      "  copying pyflux\\families\\inverse_gamma.py -> build\\lib.win-amd64-3.9\\pyflux\\families\n",
      "  copying pyflux\\families\\inverse_wishart.py -> build\\lib.win-amd64-3.9\\pyflux\\families\n",
      "  copying pyflux\\families\\laplace.py -> build\\lib.win-amd64-3.9\\pyflux\\families\n",
      "  copying pyflux\\families\\normal.py -> build\\lib.win-amd64-3.9\\pyflux\\families\n",
      "  copying pyflux\\families\\poisson.py -> build\\lib.win-amd64-3.9\\pyflux\\families\n",
      "  copying pyflux\\families\\setup.py -> build\\lib.win-amd64-3.9\\pyflux\\families\n",
      "  copying pyflux\\families\\skewt.py -> build\\lib.win-amd64-3.9\\pyflux\\families\n",
      "  copying pyflux\\families\\t.py -> build\\lib.win-amd64-3.9\\pyflux\\families\n",
      "  copying pyflux\\families\\truncated_normal.py -> build\\lib.win-amd64-3.9\\pyflux\\families\n",
      "  copying pyflux\\families\\__init__.py -> build\\lib.win-amd64-3.9\\pyflux\\families\n",
      "  creating build\\lib.win-amd64-3.9\\pyflux\\garch\n",
      "  copying pyflux\\garch\\egarch.py -> build\\lib.win-amd64-3.9\\pyflux\\garch\n",
      "  copying pyflux\\garch\\egarchm.py -> build\\lib.win-amd64-3.9\\pyflux\\garch\n",
      "  copying pyflux\\garch\\egarchmreg.py -> build\\lib.win-amd64-3.9\\pyflux\\garch\n",
      "  copying pyflux\\garch\\garch.py -> build\\lib.win-amd64-3.9\\pyflux\\garch\n",
      "  copying pyflux\\garch\\lmegarch.py -> build\\lib.win-amd64-3.9\\pyflux\\garch\n",
      "  copying pyflux\\garch\\segarch.py -> build\\lib.win-amd64-3.9\\pyflux\\garch\n",
      "  copying pyflux\\garch\\segarchm.py -> build\\lib.win-amd64-3.9\\pyflux\\garch\n",
      "  copying pyflux\\garch\\setup.py -> build\\lib.win-amd64-3.9\\pyflux\\garch\n",
      "  copying pyflux\\garch\\__init__.py -> build\\lib.win-amd64-3.9\\pyflux\\garch\n",
      "  creating build\\lib.win-amd64-3.9\\pyflux\\gas\n",
      "  copying pyflux\\gas\\gas.py -> build\\lib.win-amd64-3.9\\pyflux\\gas\n",
      "  copying pyflux\\gas\\gasllm.py -> build\\lib.win-amd64-3.9\\pyflux\\gas\n",
      "  copying pyflux\\gas\\gasllt.py -> build\\lib.win-amd64-3.9\\pyflux\\gas\n",
      "  copying pyflux\\gas\\gasrank.py -> build\\lib.win-amd64-3.9\\pyflux\\gas\n",
      "  copying pyflux\\gas\\gasreg.py -> build\\lib.win-amd64-3.9\\pyflux\\gas\n",
      "  copying pyflux\\gas\\gasx.py -> build\\lib.win-amd64-3.9\\pyflux\\gas\n",
      "  copying pyflux\\gas\\scores.py -> build\\lib.win-amd64-3.9\\pyflux\\gas\n",
      "  copying pyflux\\gas\\setup.py -> build\\lib.win-amd64-3.9\\pyflux\\gas\n",
      "  copying pyflux\\gas\\__init__.py -> build\\lib.win-amd64-3.9\\pyflux\\gas\n",
      "  creating build\\lib.win-amd64-3.9\\pyflux\\gpnarx\n",
      "  copying pyflux\\gpnarx\\gpnarx.py -> build\\lib.win-amd64-3.9\\pyflux\\gpnarx\n",
      "  copying pyflux\\gpnarx\\kernels.py -> build\\lib.win-amd64-3.9\\pyflux\\gpnarx\n",
      "  copying pyflux\\gpnarx\\setup.py -> build\\lib.win-amd64-3.9\\pyflux\\gpnarx\n",
      "  copying pyflux\\gpnarx\\__init__.py -> build\\lib.win-amd64-3.9\\pyflux\\gpnarx\n",
      "  creating build\\lib.win-amd64-3.9\\pyflux\\inference\n",
      "  copying pyflux\\inference\\bbvi.py -> build\\lib.win-amd64-3.9\\pyflux\\inference\n",
      "  copying pyflux\\inference\\metropolis_hastings.py -> build\\lib.win-amd64-3.9\\pyflux\\inference\n",
      "  copying pyflux\\inference\\norm_post_sim.py -> build\\lib.win-amd64-3.9\\pyflux\\inference\n",
      "  copying pyflux\\inference\\setup.py -> build\\lib.win-amd64-3.9\\pyflux\\inference\n",
      "  copying pyflux\\inference\\stoch_optim.py -> build\\lib.win-amd64-3.9\\pyflux\\inference\n",
      "  copying pyflux\\inference\\__init__.py -> build\\lib.win-amd64-3.9\\pyflux\\inference\n",
      "  creating build\\lib.win-amd64-3.9\\pyflux\\output\n",
      "  copying pyflux\\output\\tableprinter.py -> build\\lib.win-amd64-3.9\\pyflux\\output\n",
      "  copying pyflux\\output\\__init__.py -> build\\lib.win-amd64-3.9\\pyflux\\output\n",
      "  creating build\\lib.win-amd64-3.9\\pyflux\\ssm\n",
      "  copying pyflux\\ssm\\dar.py -> build\\lib.win-amd64-3.9\\pyflux\\ssm\n"
     ]
    },
    {
     "name": "stderr",
     "output_type": "stream",
     "text": [
      "  copying pyflux\\ssm\\dynamic_glm.py -> build\\lib.win-amd64-3.9\\pyflux\\ssm\n",
      "  copying pyflux\\ssm\\dynlin.py -> build\\lib.win-amd64-3.9\\pyflux\\ssm\n",
      "  copying pyflux\\ssm\\llm.py -> build\\lib.win-amd64-3.9\\pyflux\\ssm\n",
      "  copying pyflux\\ssm\\llt.py -> build\\lib.win-amd64-3.9\\pyflux\\ssm\n",
      "  copying pyflux\\ssm\\local_level.py -> build\\lib.win-amd64-3.9\\pyflux\\ssm\n",
      "  copying pyflux\\ssm\\local_trend.py -> build\\lib.win-amd64-3.9\\pyflux\\ssm\n",
      "  copying pyflux\\ssm\\ndynlin.py -> build\\lib.win-amd64-3.9\\pyflux\\ssm\n",
      "  copying pyflux\\ssm\\nllm.py -> build\\lib.win-amd64-3.9\\pyflux\\ssm\n",
      "  copying pyflux\\ssm\\nllt.py -> build\\lib.win-amd64-3.9\\pyflux\\ssm\n",
      "  copying pyflux\\ssm\\setup.py -> build\\lib.win-amd64-3.9\\pyflux\\ssm\n",
      "  copying pyflux\\ssm\\__init__.py -> build\\lib.win-amd64-3.9\\pyflux\\ssm\n",
      "  creating build\\lib.win-amd64-3.9\\pyflux\\tests\n",
      "  copying pyflux\\tests\\nhst.py -> build\\lib.win-amd64-3.9\\pyflux\\tests\n",
      "  copying pyflux\\tests\\__init__.py -> build\\lib.win-amd64-3.9\\pyflux\\tests\n",
      "  creating build\\lib.win-amd64-3.9\\pyflux\\var\n",
      "  copying pyflux\\var\\setup.py -> build\\lib.win-amd64-3.9\\pyflux\\var\n",
      "  copying pyflux\\var\\var.py -> build\\lib.win-amd64-3.9\\pyflux\\var\n",
      "  copying pyflux\\var\\__init__.py -> build\\lib.win-amd64-3.9\\pyflux\\var\n",
      "  running build_ext\n",
      "  No module named 'numpy.distutils._msvccompiler' in numpy.distutils; trying from distutils\n",
      "  customize MSVCCompiler\n",
      "  customize MSVCCompiler using build_ext\n",
      "  CCompilerOpt.cc_test_flags[1013] : testing flags (/O2)\n",
      "  error: Microsoft Visual C++ 14.0 or greater is required. Get it with \"Microsoft C++ Build Tools\": https://visualstudio.microsoft.com/visual-cpp-build-tools/\n",
      "  CCompilerOpt.cache_flush[809] : write cache to path -> C:\\Users\\Alex\\AppData\\Local\\Temp\\pip-install-s9reatmu\\pyflux_8979561386f847b6850ea17111bd4f61\\build\\temp.win-amd64-3.9\\Release\\ccompiler_opt_cache_ext.py\n",
      "  ----------------------------------------\n",
      "  ERROR: Failed building wheel for pyflux\n",
      "    ERROR: Command errored out with exit status 1:\n",
      "     command: 'C:\\Users\\Alex\\anaconda3\\python.exe' -u -c 'import io, os, sys, setuptools, tokenize; sys.argv[0] = '\"'\"'C:\\\\Users\\\\Alex\\\\AppData\\\\Local\\\\Temp\\\\pip-install-s9reatmu\\\\pyflux_8979561386f847b6850ea17111bd4f61\\\\setup.py'\"'\"'; __file__='\"'\"'C:\\\\Users\\\\Alex\\\\AppData\\\\Local\\\\Temp\\\\pip-install-s9reatmu\\\\pyflux_8979561386f847b6850ea17111bd4f61\\\\setup.py'\"'\"';f = getattr(tokenize, '\"'\"'open'\"'\"', open)(__file__) if os.path.exists(__file__) else io.StringIO('\"'\"'from setuptools import setup; setup()'\"'\"');code = f.read().replace('\"'\"'\\r\\n'\"'\"', '\"'\"'\\n'\"'\"');f.close();exec(compile(code, __file__, '\"'\"'exec'\"'\"'))' install --record 'C:\\Users\\Alex\\AppData\\Local\\Temp\\pip-record-skt4zr5p\\install-record.txt' --single-version-externally-managed --compile --install-headers 'C:\\Users\\Alex\\anaconda3\\Include\\pyflux'\n",
      "         cwd: C:\\Users\\Alex\\AppData\\Local\\Temp\\pip-install-s9reatmu\\pyflux_8979561386f847b6850ea17111bd4f61\\\n",
      "    Complete output (142 lines):\n",
      "    running install\n",
      "    C:\\Users\\Alex\\anaconda3\\lib\\site-packages\\setuptools\\command\\install.py:34: SetuptoolsDeprecationWarning: setup.py install is deprecated. Use build and pip and other standards-based tools.\n",
      "      warnings.warn(\n",
      "    running build\n",
      "    running config_cc\n",
      "    unifing config_cc, config, build_clib, build_ext, build commands --compiler options\n",
      "    running config_fc\n",
      "    unifing config_fc, config, build_clib, build_ext, build commands --fcompiler options\n",
      "    running build_src\n",
      "    build_src\n",
      "    building extension \"pyflux.__check_build._check_build\" sources\n",
      "    building extension \"pyflux.arma.arma_recursions\" sources\n",
      "    building extension \"pyflux.arma.nn_architecture\" sources\n",
      "    building extension \"pyflux.families.gas_recursions\" sources\n",
      "    building extension \"pyflux.families.poisson_kalman_recursions\" sources\n",
      "    building extension \"pyflux.garch.garch_recursions\" sources\n",
      "    building extension \"pyflux.gas.gas_core_recursions\" sources\n",
      "    building extension \"pyflux.gpnarx.kernel_routines\" sources\n",
      "    building extension \"pyflux.inference.metropolis_sampler\" sources\n",
      "    building extension \"pyflux.inference.bbvi_routines\" sources\n",
      "    building extension \"pyflux.ssm.kalman\" sources\n",
      "    building extension \"pyflux.var.var_recursions\" sources\n",
      "    build_src: building npy-pkg config files\n",
      "    running build_py\n",
      "    creating build\n",
      "    creating build\\lib.win-amd64-3.9\n",
      "    creating build\\lib.win-amd64-3.9\\pyflux\n",
      "    copying pyflux\\covariances.py -> build\\lib.win-amd64-3.9\\pyflux\n",
      "    copying pyflux\\data_check.py -> build\\lib.win-amd64-3.9\\pyflux\n",
      "    copying pyflux\\latent_variables.py -> build\\lib.win-amd64-3.9\\pyflux\n",
      "    copying pyflux\\results.py -> build\\lib.win-amd64-3.9\\pyflux\n",
      "    copying pyflux\\setup.py -> build\\lib.win-amd64-3.9\\pyflux\n",
      "    copying pyflux\\tsm.py -> build\\lib.win-amd64-3.9\\pyflux\n",
      "    copying pyflux\\__init__.py -> build\\lib.win-amd64-3.9\\pyflux\n",
      "    creating build\\lib.win-amd64-3.9\\pyflux\\__check_build\n",
      "    copying pyflux\\__check_build\\setup.py -> build\\lib.win-amd64-3.9\\pyflux\\__check_build\n",
      "    copying pyflux\\__check_build\\__init__.py -> build\\lib.win-amd64-3.9\\pyflux\\__check_build\n",
      "    creating build\\lib.win-amd64-3.9\\pyflux\\arma\n",
      "    copying pyflux\\arma\\arimax.py -> build\\lib.win-amd64-3.9\\pyflux\\arma\n",
      "    copying pyflux\\arma\\arma.py -> build\\lib.win-amd64-3.9\\pyflux\\arma\n",
      "    copying pyflux\\arma\\nnar.py -> build\\lib.win-amd64-3.9\\pyflux\\arma\n",
      "    copying pyflux\\arma\\nnarx.py -> build\\lib.win-amd64-3.9\\pyflux\\arma\n",
      "    copying pyflux\\arma\\setup.py -> build\\lib.win-amd64-3.9\\pyflux\\arma\n",
      "    copying pyflux\\arma\\__init__.py -> build\\lib.win-amd64-3.9\\pyflux\\arma\n",
      "    creating build\\lib.win-amd64-3.9\\pyflux\\arma\\tests\n",
      "    copying pyflux\\arma\\tests\\test_arimax_cauchy.py -> build\\lib.win-amd64-3.9\\pyflux\\arma\\tests\n",
      "    copying pyflux\\arma\\tests\\test_arimax_exponential.py -> build\\lib.win-amd64-3.9\\pyflux\\arma\\tests\n",
      "    copying pyflux\\arma\\tests\\test_arimax_inference.py -> build\\lib.win-amd64-3.9\\pyflux\\arma\\tests\n",
      "    copying pyflux\\arma\\tests\\test_arimax_laplace.py -> build\\lib.win-amd64-3.9\\pyflux\\arma\\tests\n",
      "    copying pyflux\\arma\\tests\\test_arimax_normal.py -> build\\lib.win-amd64-3.9\\pyflux\\arma\\tests\n",
      "    copying pyflux\\arma\\tests\\test_arimax_poisson.py -> build\\lib.win-amd64-3.9\\pyflux\\arma\\tests\n",
      "    copying pyflux\\arma\\tests\\test_arimax_skewt.py -> build\\lib.win-amd64-3.9\\pyflux\\arma\\tests\n",
      "    copying pyflux\\arma\\tests\\test_arimax_t.py -> build\\lib.win-amd64-3.9\\pyflux\\arma\\tests\n",
      "    copying pyflux\\arma\\tests\\test_arima_cauchy.py -> build\\lib.win-amd64-3.9\\pyflux\\arma\\tests\n",
      "    copying pyflux\\arma\\tests\\test_arima_exponential.py -> build\\lib.win-amd64-3.9\\pyflux\\arma\\tests\n",
      "    copying pyflux\\arma\\tests\\test_arima_inference.py -> build\\lib.win-amd64-3.9\\pyflux\\arma\\tests\n",
      "    copying pyflux\\arma\\tests\\test_arima_laplace.py -> build\\lib.win-amd64-3.9\\pyflux\\arma\\tests\n",
      "    copying pyflux\\arma\\tests\\test_arima_normal.py -> build\\lib.win-amd64-3.9\\pyflux\\arma\\tests\n",
      "    copying pyflux\\arma\\tests\\test_arima_poisson.py -> build\\lib.win-amd64-3.9\\pyflux\\arma\\tests\n",
      "    copying pyflux\\arma\\tests\\test_arima_skewt.py -> build\\lib.win-amd64-3.9\\pyflux\\arma\\tests\n",
      "    copying pyflux\\arma\\tests\\test_arima_t.py -> build\\lib.win-amd64-3.9\\pyflux\\arma\\tests\n",
      "    copying pyflux\\arma\\tests\\__init__.py -> build\\lib.win-amd64-3.9\\pyflux\\arma\\tests\n",
      "    creating build\\lib.win-amd64-3.9\\pyflux\\ensembles\n",
      "    copying pyflux\\ensembles\\mixture_of_experts.py -> build\\lib.win-amd64-3.9\\pyflux\\ensembles\n",
      "    copying pyflux\\ensembles\\__init__.py -> build\\lib.win-amd64-3.9\\pyflux\\ensembles\n",
      "    creating build\\lib.win-amd64-3.9\\pyflux\\families\n",
      "    copying pyflux\\families\\cauchy.py -> build\\lib.win-amd64-3.9\\pyflux\\families\n",
      "    copying pyflux\\families\\exponential.py -> build\\lib.win-amd64-3.9\\pyflux\\families\n",
      "    copying pyflux\\families\\family.py -> build\\lib.win-amd64-3.9\\pyflux\\families\n",
      "    copying pyflux\\families\\flat.py -> build\\lib.win-amd64-3.9\\pyflux\\families\n",
      "    copying pyflux\\families\\inverse_gamma.py -> build\\lib.win-amd64-3.9\\pyflux\\families\n",
      "    copying pyflux\\families\\inverse_wishart.py -> build\\lib.win-amd64-3.9\\pyflux\\families\n",
      "    copying pyflux\\families\\laplace.py -> build\\lib.win-amd64-3.9\\pyflux\\families\n",
      "    copying pyflux\\families\\normal.py -> build\\lib.win-amd64-3.9\\pyflux\\families\n",
      "    copying pyflux\\families\\poisson.py -> build\\lib.win-amd64-3.9\\pyflux\\families\n",
      "    copying pyflux\\families\\setup.py -> build\\lib.win-amd64-3.9\\pyflux\\families\n",
      "    copying pyflux\\families\\skewt.py -> build\\lib.win-amd64-3.9\\pyflux\\families\n",
      "    copying pyflux\\families\\t.py -> build\\lib.win-amd64-3.9\\pyflux\\families\n",
      "    copying pyflux\\families\\truncated_normal.py -> build\\lib.win-amd64-3.9\\pyflux\\families\n",
      "    copying pyflux\\families\\__init__.py -> build\\lib.win-amd64-3.9\\pyflux\\families\n",
      "    creating build\\lib.win-amd64-3.9\\pyflux\\garch\n",
      "    copying pyflux\\garch\\egarch.py -> build\\lib.win-amd64-3.9\\pyflux\\garch\n",
      "    copying pyflux\\garch\\egarchm.py -> build\\lib.win-amd64-3.9\\pyflux\\garch\n",
      "    copying pyflux\\garch\\egarchmreg.py -> build\\lib.win-amd64-3.9\\pyflux\\garch\n",
      "    copying pyflux\\garch\\garch.py -> build\\lib.win-amd64-3.9\\pyflux\\garch\n",
      "    copying pyflux\\garch\\lmegarch.py -> build\\lib.win-amd64-3.9\\pyflux\\garch\n",
      "    copying pyflux\\garch\\segarch.py -> build\\lib.win-amd64-3.9\\pyflux\\garch\n",
      "    copying pyflux\\garch\\segarchm.py -> build\\lib.win-amd64-3.9\\pyflux\\garch\n",
      "    copying pyflux\\garch\\setup.py -> build\\lib.win-amd64-3.9\\pyflux\\garch\n",
      "    copying pyflux\\garch\\__init__.py -> build\\lib.win-amd64-3.9\\pyflux\\garch\n",
      "    creating build\\lib.win-amd64-3.9\\pyflux\\gas\n",
      "    copying pyflux\\gas\\gas.py -> build\\lib.win-amd64-3.9\\pyflux\\gas\n",
      "    copying pyflux\\gas\\gasllm.py -> build\\lib.win-amd64-3.9\\pyflux\\gas\n",
      "    copying pyflux\\gas\\gasllt.py -> build\\lib.win-amd64-3.9\\pyflux\\gas\n",
      "    copying pyflux\\gas\\gasrank.py -> build\\lib.win-amd64-3.9\\pyflux\\gas\n",
      "    copying pyflux\\gas\\gasreg.py -> build\\lib.win-amd64-3.9\\pyflux\\gas\n",
      "    copying pyflux\\gas\\gasx.py -> build\\lib.win-amd64-3.9\\pyflux\\gas\n",
      "    copying pyflux\\gas\\scores.py -> build\\lib.win-amd64-3.9\\pyflux\\gas\n",
      "    copying pyflux\\gas\\setup.py -> build\\lib.win-amd64-3.9\\pyflux\\gas\n",
      "    copying pyflux\\gas\\__init__.py -> build\\lib.win-amd64-3.9\\pyflux\\gas\n",
      "    creating build\\lib.win-amd64-3.9\\pyflux\\gpnarx\n",
      "    copying pyflux\\gpnarx\\gpnarx.py -> build\\lib.win-amd64-3.9\\pyflux\\gpnarx\n",
      "    copying pyflux\\gpnarx\\kernels.py -> build\\lib.win-amd64-3.9\\pyflux\\gpnarx\n",
      "    copying pyflux\\gpnarx\\setup.py -> build\\lib.win-amd64-3.9\\pyflux\\gpnarx\n",
      "    copying pyflux\\gpnarx\\__init__.py -> build\\lib.win-amd64-3.9\\pyflux\\gpnarx\n",
      "    creating build\\lib.win-amd64-3.9\\pyflux\\inference\n",
      "    copying pyflux\\inference\\bbvi.py -> build\\lib.win-amd64-3.9\\pyflux\\inference\n",
      "    copying pyflux\\inference\\metropolis_hastings.py -> build\\lib.win-amd64-3.9\\pyflux\\inference\n",
      "    copying pyflux\\inference\\norm_post_sim.py -> build\\lib.win-amd64-3.9\\pyflux\\inference\n",
      "    copying pyflux\\inference\\setup.py -> build\\lib.win-amd64-3.9\\pyflux\\inference\n",
      "    copying pyflux\\inference\\stoch_optim.py -> build\\lib.win-amd64-3.9\\pyflux\\inference\n",
      "    copying pyflux\\inference\\__init__.py -> build\\lib.win-amd64-3.9\\pyflux\\inference\n",
      "    creating build\\lib.win-amd64-3.9\\pyflux\\output\n",
      "    copying pyflux\\output\\tableprinter.py -> build\\lib.win-amd64-3.9\\pyflux\\output\n",
      "    copying pyflux\\output\\__init__.py -> build\\lib.win-amd64-3.9\\pyflux\\output\n",
      "    creating build\\lib.win-amd64-3.9\\pyflux\\ssm\n",
      "    copying pyflux\\ssm\\dar.py -> build\\lib.win-amd64-3.9\\pyflux\\ssm\n",
      "    copying pyflux\\ssm\\dynamic_glm.py -> build\\lib.win-amd64-3.9\\pyflux\\ssm\n",
      "    copying pyflux\\ssm\\dynlin.py -> build\\lib.win-amd64-3.9\\pyflux\\ssm\n",
      "    copying pyflux\\ssm\\llm.py -> build\\lib.win-amd64-3.9\\pyflux\\ssm\n",
      "    copying pyflux\\ssm\\llt.py -> build\\lib.win-amd64-3.9\\pyflux\\ssm\n",
      "    copying pyflux\\ssm\\local_level.py -> build\\lib.win-amd64-3.9\\pyflux\\ssm\n",
      "    copying pyflux\\ssm\\local_trend.py -> build\\lib.win-amd64-3.9\\pyflux\\ssm\n",
      "    copying pyflux\\ssm\\ndynlin.py -> build\\lib.win-amd64-3.9\\pyflux\\ssm\n",
      "    copying pyflux\\ssm\\nllm.py -> build\\lib.win-amd64-3.9\\pyflux\\ssm\n",
      "    copying pyflux\\ssm\\nllt.py -> build\\lib.win-amd64-3.9\\pyflux\\ssm\n",
      "    copying pyflux\\ssm\\setup.py -> build\\lib.win-amd64-3.9\\pyflux\\ssm\n",
      "    copying pyflux\\ssm\\__init__.py -> build\\lib.win-amd64-3.9\\pyflux\\ssm\n",
      "    creating build\\lib.win-amd64-3.9\\pyflux\\tests\n",
      "    copying pyflux\\tests\\nhst.py -> build\\lib.win-amd64-3.9\\pyflux\\tests\n",
      "    copying pyflux\\tests\\__init__.py -> build\\lib.win-amd64-3.9\\pyflux\\tests\n",
      "    creating build\\lib.win-amd64-3.9\\pyflux\\var\n",
      "    copying pyflux\\var\\setup.py -> build\\lib.win-amd64-3.9\\pyflux\\var\n",
      "    copying pyflux\\var\\var.py -> build\\lib.win-amd64-3.9\\pyflux\\var\n",
      "    copying pyflux\\var\\__init__.py -> build\\lib.win-amd64-3.9\\pyflux\\var\n",
      "    running build_ext\n",
      "    No module named 'numpy.distutils._msvccompiler' in numpy.distutils; trying from distutils\n",
      "    customize MSVCCompiler\n",
      "    customize MSVCCompiler using build_ext\n",
      "    CCompilerOpt.cc_test_flags[1013] : testing flags (/O2)\n",
      "    error: Microsoft Visual C++ 14.0 or greater is required. Get it with \"Microsoft C++ Build Tools\": https://visualstudio.microsoft.com/visual-cpp-build-tools/\n",
      "    CCompilerOpt.cache_flush[809] : write cache to path -> C:\\Users\\Alex\\AppData\\Local\\Temp\\pip-install-s9reatmu\\pyflux_8979561386f847b6850ea17111bd4f61\\build\\temp.win-amd64-3.9\\Release\\ccompiler_opt_cache_ext.py\n",
      "    ----------------------------------------\n",
      "ERROR: Command errored out with exit status 1: 'C:\\Users\\Alex\\anaconda3\\python.exe' -u -c 'import io, os, sys, setuptools, tokenize; sys.argv[0] = '\"'\"'C:\\\\Users\\\\Alex\\\\AppData\\\\Local\\\\Temp\\\\pip-install-s9reatmu\\\\pyflux_8979561386f847b6850ea17111bd4f61\\\\setup.py'\"'\"'; __file__='\"'\"'C:\\\\Users\\\\Alex\\\\AppData\\\\Local\\\\Temp\\\\pip-install-s9reatmu\\\\pyflux_8979561386f847b6850ea17111bd4f61\\\\setup.py'\"'\"';f = getattr(tokenize, '\"'\"'open'\"'\"', open)(__file__) if os.path.exists(__file__) else io.StringIO('\"'\"'from setuptools import setup; setup()'\"'\"');code = f.read().replace('\"'\"'\\r\\n'\"'\"', '\"'\"'\\n'\"'\"');f.close();exec(compile(code, __file__, '\"'\"'exec'\"'\"'))' install --record 'C:\\Users\\Alex\\AppData\\Local\\Temp\\pip-record-skt4zr5p\\install-record.txt' --single-version-externally-managed --compile --install-headers 'C:\\Users\\Alex\\anaconda3\\Include\\pyflux' Check the logs for full command output.\n"
     ]
    }
   ],
   "source": [
    "pip install pyflux"
   ]
  },
  {
   "cell_type": "code",
   "execution_count": 170,
   "id": "7c8d4c68",
   "metadata": {},
   "outputs": [
    {
     "ename": "ModuleNotFoundError",
     "evalue": "No module named 'pyflux'",
     "output_type": "error",
     "traceback": [
      "\u001b[1;31m---------------------------------------------------------------------------\u001b[0m",
      "\u001b[1;31mModuleNotFoundError\u001b[0m                       Traceback (most recent call last)",
      "Input \u001b[1;32mIn [170]\u001b[0m, in \u001b[0;36m<cell line: 1>\u001b[1;34m()\u001b[0m\n\u001b[1;32m----> 1\u001b[0m \u001b[38;5;28;01mimport\u001b[39;00m \u001b[38;5;21;01mpyflux\u001b[39;00m \u001b[38;5;28;01mas\u001b[39;00m \u001b[38;5;21;01mpf\u001b[39;00m\n\u001b[0;32m      2\u001b[0m model \u001b[38;5;241m=\u001b[39m pf\u001b[38;5;241m.\u001b[39mGARCH(df[\u001b[38;5;124m'\u001b[39m\u001b[38;5;124mdif\u001b[39m\u001b[38;5;124m'\u001b[39m],p\u001b[38;5;241m=\u001b[39m\u001b[38;5;241m1\u001b[39m,q\u001b[38;5;241m=\u001b[39m\u001b[38;5;241m1\u001b[39m)\n\u001b[0;32m      3\u001b[0m x \u001b[38;5;241m=\u001b[39m model\u001b[38;5;241m.\u001b[39mfit()\n",
      "\u001b[1;31mModuleNotFoundError\u001b[0m: No module named 'pyflux'"
     ]
    }
   ],
   "source": [
    "import pyflux as pf\n",
    "model = pf.GARCH(df['dif'],p=1,q=1)\n",
    "x = model.fit()\n",
    "x.summary()"
   ]
  },
  {
   "cell_type": "code",
   "execution_count": null,
   "id": "0044effe",
   "metadata": {},
   "outputs": [],
   "source": []
  },
  {
   "cell_type": "code",
   "execution_count": 144,
   "id": "9380b6cd",
   "metadata": {},
   "outputs": [
    {
     "data": {
      "text/plain": [
       "68.54545454545455"
      ]
     },
     "execution_count": 144,
     "metadata": {},
     "output_type": "execute_result"
    }
   ],
   "source": [
    "0.87*(7800/11)/9"
   ]
  },
  {
   "cell_type": "code",
   "execution_count": null,
   "id": "51f2aac2",
   "metadata": {},
   "outputs": [],
   "source": [
    "4*x1 + 2*x2 + 4*x3 + x4 = 7.8\n",
    "x2 = 0.8*x1\n",
    "x3 = 0.6*x1\n",
    "x4 = 0.5*x1"
   ]
  },
  {
   "cell_type": "code",
   "execution_count": 155,
   "id": "61259281",
   "metadata": {},
   "outputs": [
    {
     "data": {
      "text/plain": [
       "array([[ 4. ,  2. ,  4. ,  1. ],\n",
       "       [ 0.8, -1. ,  0. ,  0. ],\n",
       "       [ 0.6,  0. , -1. ,  0. ],\n",
       "       [ 0.5,  0. ,  0. , -1. ]])"
      ]
     },
     "execution_count": 155,
     "metadata": {},
     "output_type": "execute_result"
    }
   ],
   "source": [
    "A = np.array([[4,2,4,1],[0.8,-1,0,0],[0.6,0,-1,0],[0.5,0,0,-1]])\n",
    "b = np.array([[7.8,0,0,0]]).T\n",
    "A"
   ]
  },
  {
   "cell_type": "code",
   "execution_count": 156,
   "id": "c4f86ab1",
   "metadata": {},
   "outputs": [
    {
     "data": {
      "text/plain": [
       "array([[0.91764706],\n",
       "       [0.73411765],\n",
       "       [0.55058824],\n",
       "       [0.45882353]])"
      ]
     },
     "execution_count": 156,
     "metadata": {},
     "output_type": "execute_result"
    }
   ],
   "source": [
    "np.linalg.solve(A,b)"
   ]
  },
  {
   "cell_type": "code",
   "execution_count": 157,
   "id": "ff54061a",
   "metadata": {},
   "outputs": [
    {
     "data": {
      "text/plain": [
       "7.80000003"
      ]
     },
     "execution_count": 157,
     "metadata": {},
     "output_type": "execute_result"
    }
   ],
   "source": [
    "0.91764706*4 + 0.73411765*2 + 0.55058824*4 + 0.45882353"
   ]
  },
  {
   "cell_type": "code",
   "execution_count": 159,
   "id": "1a7b7fb3",
   "metadata": {},
   "outputs": [
    {
     "data": {
      "text/plain": [
       "88705.88246666666"
      ]
     },
     "execution_count": 159,
     "metadata": {},
     "output_type": "execute_result"
    }
   ],
   "source": [
    "0.87*0.91764706*1000000/9"
   ]
  }
 ],
 "metadata": {
  "kernelspec": {
   "display_name": "Python 3 (ipykernel)",
   "language": "python",
   "name": "python3"
  },
  "language_info": {
   "codemirror_mode": {
    "name": "ipython",
    "version": 3
   },
   "file_extension": ".py",
   "mimetype": "text/x-python",
   "name": "python",
   "nbconvert_exporter": "python",
   "pygments_lexer": "ipython3",
   "version": "3.9.12"
  }
 },
 "nbformat": 4,
 "nbformat_minor": 5
}
