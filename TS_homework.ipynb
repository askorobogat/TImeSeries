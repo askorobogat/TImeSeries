{
 "cells": [
  {
   "cell_type": "markdown",
   "id": "c051003c",
   "metadata": {},
   "source": [
    "### Time Series Econometrics\n",
    "Alexander Skorobogatov"
   ]
  },
  {
   "cell_type": "markdown",
   "id": "80710da5",
   "metadata": {},
   "source": [
    "# Homework"
   ]
  },
  {
   "cell_type": "markdown",
   "id": "4bbf20e4",
   "metadata": {},
   "source": [
    "### I. Dynamics\n",
    "For related materials, please see [Topic 1. Dynamics in ts linear models](https://github.com/askorobogat/TImeSeries/blob/main/TS1_Taxonomy%20of%20dynamics.ipynb).\n",
    "\n",
    "1. Create a stable time series in line with AR(1)  \n",
    "2. Check the stability and vizualize  \n",
    "3. Estimate AR(1) and discuss the results\n",
    "4. Create a unstable fluctuating time series in line with AR(2)  \n",
    "5. Check the stability and vizualize  \n",
    "6. Estimate AR(2) and discuss the results"
   ]
  },
  {
   "cell_type": "markdown",
   "id": "f7b50343",
   "metadata": {},
   "source": [
    "### II. VAR-SVAR\n",
    "For related materials, please see [Topic 2. VAR-SVAR: theory and simulations](https://github.com/askorobogat/TImeSeries/blob/main/TS2_VAR-SVAR.ipynb).\n",
    "\n",
    "1. Create a stable time series negatively correlated dataset in line with VAR(1)  \n",
    "2. Check the stability  \n",
    "3. Vizualize and discuss  \n",
    "4. Estimate VAR model and compare the true and estimated coefficients  \n",
    "5. Estimate SVAR model and compare the true and estimated coefficients  \n",
    "\n",
    " An additional exercise to earn a higher grade  \n",
    "6. Download two possible correlated time series of your choice, estimate VAR(SVAR), and discuss the results  "
   ]
  },
  {
   "cell_type": "code",
   "execution_count": null,
   "id": "a921b186",
   "metadata": {},
   "outputs": [],
   "source": []
  }
 ],
 "metadata": {
  "kernelspec": {
   "display_name": "Python 3 (ipykernel)",
   "language": "python",
   "name": "python3"
  },
  "language_info": {
   "codemirror_mode": {
    "name": "ipython",
    "version": 3
   },
   "file_extension": ".py",
   "mimetype": "text/x-python",
   "name": "python",
   "nbconvert_exporter": "python",
   "pygments_lexer": "ipython3",
   "version": "3.9.12"
  }
 },
 "nbformat": 4,
 "nbformat_minor": 5
}
