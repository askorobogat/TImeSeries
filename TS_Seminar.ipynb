{
 "cells": [
  {
   "cell_type": "markdown",
   "id": "c051003c",
   "metadata": {},
   "source": [
    "### Time Series Econometrics\n",
    "Alexander Skorobogatov"
   ]
  },
  {
   "cell_type": "markdown",
   "id": "80710da5",
   "metadata": {},
   "source": [
    "# Seminar assignments"
   ]
  },
  {
   "cell_type": "markdown",
   "id": "4bbf20e4",
   "metadata": {},
   "source": [
    "### I. Dynamics\n",
    "For related materials, please see [Topic 1. Dynamics in ts linear models](https://github.com/askorobogat/TImeSeries/blob/main/TS1_Taxonomy%20of%20dynamics.ipynb).\n",
    "\n",
    "1. Create a stable time series in line with VAR(1)  \n",
    "2. Check the stability and vizualize  \n",
    "3. Estimate VAR and discuss the results\n",
    "4. Create a unstable time series in line with VAR(1)  \n",
    "5. Check the stability and vizualize  \n",
    "6. Estimate VAR and discuss the results"
   ]
  },
  {
   "cell_type": "markdown",
   "id": "f7b50343",
   "metadata": {},
   "source": [
    "### II. VAR\n",
    "For related materials for this and the next topics, please see [Topic 2. VAR-SVAR: theory and simulations](https://github.com/askorobogat/TImeSeries/blob/main/TS2_VAR-SVAR.ipynb).\n",
    "\n",
    "1. Create a stable time series in line with VAR(1)  \n",
    "2. Estimate VAR model and report the results  \n",
    "3. Visualize impulse-response plot\n",
    "4. Forecast error variance decomposition\n",
    "5. Repeat steps 1-4 adding an intercept column"
   ]
  },
  {
   "cell_type": "markdown",
   "id": "d021ad45",
   "metadata": {},
   "source": [
    "### III. SVAR\n",
    "SVAR(1) is given by:\n",
    "$$x_{t} = -a_{10} y_{t} + a_{11} x_{t-1} + a_{12} y_{t-1} + u_t$$ \n",
    "$$y_{t} = -a_{20} x_{t} + a_{21} x_{t-1} + a_{22} y_{t-1} + v_t$$  \n",
    "\n",
    "with the restriction that either $a_{10}$, or $a_{20} = 0$.\n",
    "\n",
    "1. Create a matrix A of a stable system  \n",
    "2. Simulate a dataset in line with A \n",
    "3. Estimate SVAR model and report the results\n",
    "4. Visualize impulse-response plot\n",
    "5. Forecast error variance decomposition"
   ]
  }
 ],
 "metadata": {
  "kernelspec": {
   "display_name": "Python 3 (ipykernel)",
   "language": "python",
   "name": "python3"
  },
  "language_info": {
   "codemirror_mode": {
    "name": "ipython",
    "version": 3
   },
   "file_extension": ".py",
   "mimetype": "text/x-python",
   "name": "python",
   "nbconvert_exporter": "python",
   "pygments_lexer": "ipython3",
   "version": "3.9.12"
  }
 },
 "nbformat": 4,
 "nbformat_minor": 5
}
